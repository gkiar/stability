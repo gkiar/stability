{
 "cells": [
  {
   "cell_type": "code",
   "execution_count": 2,
   "metadata": {},
   "outputs": [],
   "source": [
    "import pandas as pd\n",
    "import numpy as np\n",
    "import os\n",
    "import os.path as op"
   ]
  },
  {
   "cell_type": "code",
   "execution_count": 9,
   "metadata": {},
   "outputs": [
    {
     "data": {
      "text/plain": "['/Users/Shared/Relocated_Items/Security/data/RocklandSample/assessments/gkanalysis/3760_Age_20140917.csv',\n '/Users/Shared/Relocated_Items/Security/data/RocklandSample/assessments/gkanalysis/3760_HT_WT_Vitals_20140917.csv',\n '/Users/Shared/Relocated_Items/Security/data/RocklandSample/assessments/gkanalysis/3760_MRI_Log_Sheet_20140917.csv',\n '/Users/Shared/Relocated_Items/Security/data/RocklandSample/assessments/gkanalysis/scan_visit_list.csv']"
     },
     "execution_count": 9,
     "metadata": {},
     "output_type": "execute_result"
    }
   ],
   "source": [
    "datadir = \"/Users/Shared/Relocated_Items/Security/data/RocklandSample/assessments/gkanalysis/\"\n",
    "files = sorted([op.join(datadir, f) for f in os.listdir(datadir) if f.endswith('csv')])\n",
    "files"
   ]
  },
  {
   "cell_type": "code",
   "execution_count": 17,
   "metadata": {},
   "outputs": [],
   "source": [
    "age_df = pd.read_csv(files[0])\n",
    "htwt_df = pd.read_csv(files[1])\n",
    "log_df = pd.read_csv(files[2])\n",
    "visits_df = pd.read_csv(files[3])"
   ]
  },
  {
   "cell_type": "code",
   "execution_count": 19,
   "metadata": {},
   "outputs": [
    {
     "data": {
      "text/html": "<div>\n<style scoped>\n    .dataframe tbody tr th:only-of-type {\n        vertical-align: middle;\n    }\n\n    .dataframe tbody tr th {\n        vertical-align: top;\n    }\n\n    .dataframe thead th {\n        text-align: right;\n    }\n</style>\n<table border=\"1\" class=\"dataframe\">\n  <thead>\n    <tr style=\"text-align: right;\">\n      <th></th>\n      <th>subject</th>\n      <th>study</th>\n      <th>code</th>\n      <th>T1w</th>\n      <th>DWI</th>\n    </tr>\n  </thead>\n  <tbody>\n    <tr>\n      <th>0</th>\n      <td>A00008326</td>\n      <td>DS</td>\n      <td>2</td>\n      <td>1</td>\n      <td>1</td>\n    </tr>\n    <tr>\n      <th>1</th>\n      <td>A00008399</td>\n      <td>DS</td>\n      <td>2</td>\n      <td>1</td>\n      <td>0</td>\n    </tr>\n    <tr>\n      <th>2</th>\n      <td>A00010893</td>\n      <td>DS</td>\n      <td>2</td>\n      <td>1</td>\n      <td>1</td>\n    </tr>\n    <tr>\n      <th>3</th>\n      <td>A00013809</td>\n      <td>DS</td>\n      <td>2</td>\n      <td>1</td>\n      <td>1</td>\n    </tr>\n    <tr>\n      <th>4</th>\n      <td>A00018030</td>\n      <td>CLG</td>\n      <td>4</td>\n      <td>1</td>\n      <td>1</td>\n    </tr>\n    <tr>\n      <th>5</th>\n      <td>A00018030</td>\n      <td>CLG</td>\n      <td>4R</td>\n      <td>1</td>\n      <td>1</td>\n    </tr>\n    <tr>\n      <th>6</th>\n      <td>A00018030</td>\n      <td>DS</td>\n      <td>2</td>\n      <td>1</td>\n      <td>1</td>\n    </tr>\n    <tr>\n      <th>7</th>\n      <td>A00019903</td>\n      <td>DS</td>\n      <td>2</td>\n      <td>1</td>\n      <td>1</td>\n    </tr>\n    <tr>\n      <th>8</th>\n      <td>A00021039</td>\n      <td>DS</td>\n      <td>2</td>\n      <td>1</td>\n      <td>1</td>\n    </tr>\n    <tr>\n      <th>9</th>\n      <td>A00023510</td>\n      <td>DS</td>\n      <td>2</td>\n      <td>1</td>\n      <td>1</td>\n    </tr>\n    <tr>\n      <th>10</th>\n      <td>A00025566</td>\n      <td>DS</td>\n      <td>2</td>\n      <td>1</td>\n      <td>1</td>\n    </tr>\n    <tr>\n      <th>11</th>\n      <td>A00027159</td>\n      <td>CLG</td>\n      <td>4</td>\n      <td>1</td>\n      <td>1</td>\n    </tr>\n    <tr>\n      <th>12</th>\n      <td>A00027159</td>\n      <td>CLG</td>\n      <td>4R</td>\n      <td>1</td>\n      <td>1</td>\n    </tr>\n    <tr>\n      <th>13</th>\n      <td>A00027159</td>\n      <td>DS</td>\n      <td>2</td>\n      <td>1</td>\n      <td>1</td>\n    </tr>\n    <tr>\n      <th>14</th>\n      <td>A00027167</td>\n      <td>CLG</td>\n      <td>4</td>\n      <td>1</td>\n      <td>1</td>\n    </tr>\n    <tr>\n      <th>15</th>\n      <td>A00027167</td>\n      <td>CLG</td>\n      <td>4R</td>\n      <td>1</td>\n      <td>1</td>\n    </tr>\n    <tr>\n      <th>16</th>\n      <td>A00027167</td>\n      <td>DS</td>\n      <td>2</td>\n      <td>1</td>\n      <td>1</td>\n    </tr>\n    <tr>\n      <th>17</th>\n      <td>A00027439</td>\n      <td>CLG</td>\n      <td>4</td>\n      <td>1</td>\n      <td>1</td>\n    </tr>\n    <tr>\n      <th>18</th>\n      <td>A00027439</td>\n      <td>CLG</td>\n      <td>4R</td>\n      <td>1</td>\n      <td>1</td>\n    </tr>\n    <tr>\n      <th>19</th>\n      <td>A00027439</td>\n      <td>DS</td>\n      <td>2</td>\n      <td>1</td>\n      <td>1</td>\n    </tr>\n    <tr>\n      <th>20</th>\n      <td>A00027443</td>\n      <td>DS</td>\n      <td>2</td>\n      <td>1</td>\n      <td>1</td>\n    </tr>\n    <tr>\n      <th>21</th>\n      <td>A00027544</td>\n      <td>DS</td>\n      <td>2</td>\n      <td>1</td>\n      <td>1</td>\n    </tr>\n    <tr>\n      <th>22</th>\n      <td>A00027651</td>\n      <td>DS</td>\n      <td>2</td>\n      <td>1</td>\n      <td>1</td>\n    </tr>\n    <tr>\n      <th>23</th>\n      <td>A00028150</td>\n      <td>DS</td>\n      <td>2</td>\n      <td>1</td>\n      <td>1</td>\n    </tr>\n    <tr>\n      <th>24</th>\n      <td>A00028152</td>\n      <td>DS</td>\n      <td>2</td>\n      <td>1</td>\n      <td>1</td>\n    </tr>\n    <tr>\n      <th>25</th>\n      <td>A00028177</td>\n      <td>DS</td>\n      <td>2</td>\n      <td>1</td>\n      <td>1</td>\n    </tr>\n    <tr>\n      <th>26</th>\n      <td>A00028184</td>\n      <td>DS</td>\n      <td>2</td>\n      <td>1</td>\n      <td>1</td>\n    </tr>\n    <tr>\n      <th>27</th>\n      <td>A00028185</td>\n      <td>DS</td>\n      <td>2</td>\n      <td>1</td>\n      <td>1</td>\n    </tr>\n    <tr>\n      <th>28</th>\n      <td>A00028185</td>\n      <td>NFB</td>\n      <td>2R</td>\n      <td>0</td>\n      <td>1</td>\n    </tr>\n    <tr>\n      <th>29</th>\n      <td>A00028185</td>\n      <td>NFB</td>\n      <td>3</td>\n      <td>1</td>\n      <td>0</td>\n    </tr>\n    <tr>\n      <th>...</th>\n      <td>...</td>\n      <td>...</td>\n      <td>...</td>\n      <td>...</td>\n      <td>...</td>\n    </tr>\n    <tr>\n      <th>1249</th>\n      <td>A00066827</td>\n      <td>NFB</td>\n      <td>A</td>\n      <td>1</td>\n      <td>1</td>\n    </tr>\n    <tr>\n      <th>1250</th>\n      <td>A00066831</td>\n      <td>DS</td>\n      <td>A</td>\n      <td>1</td>\n      <td>1</td>\n    </tr>\n    <tr>\n      <th>1251</th>\n      <td>A00066860</td>\n      <td>CLG</td>\n      <td>2R</td>\n      <td>1</td>\n      <td>1</td>\n    </tr>\n    <tr>\n      <th>1252</th>\n      <td>A00066860</td>\n      <td>DS</td>\n      <td>A</td>\n      <td>1</td>\n      <td>1</td>\n    </tr>\n    <tr>\n      <th>1253</th>\n      <td>A00066864</td>\n      <td>ALG</td>\n      <td>A</td>\n      <td>1</td>\n      <td>1</td>\n    </tr>\n    <tr>\n      <th>1254</th>\n      <td>A00066865</td>\n      <td>NFB</td>\n      <td>A</td>\n      <td>1</td>\n      <td>1</td>\n    </tr>\n    <tr>\n      <th>1255</th>\n      <td>A00066871</td>\n      <td>ALG</td>\n      <td>A</td>\n      <td>1</td>\n      <td>1</td>\n    </tr>\n    <tr>\n      <th>1256</th>\n      <td>A00066926</td>\n      <td>NFB</td>\n      <td>3</td>\n      <td>1</td>\n      <td>0</td>\n    </tr>\n    <tr>\n      <th>1257</th>\n      <td>A00066926</td>\n      <td>NFB</td>\n      <td>A</td>\n      <td>1</td>\n      <td>1</td>\n    </tr>\n    <tr>\n      <th>1258</th>\n      <td>A00067174</td>\n      <td>ALG</td>\n      <td>A</td>\n      <td>1</td>\n      <td>1</td>\n    </tr>\n    <tr>\n      <th>1259</th>\n      <td>A00072203</td>\n      <td>NFB</td>\n      <td>3</td>\n      <td>1</td>\n      <td>0</td>\n    </tr>\n    <tr>\n      <th>1260</th>\n      <td>A00072203</td>\n      <td>NFB</td>\n      <td>A</td>\n      <td>1</td>\n      <td>1</td>\n    </tr>\n    <tr>\n      <th>1261</th>\n      <td>A00073230</td>\n      <td>ALG</td>\n      <td>A</td>\n      <td>1</td>\n      <td>1</td>\n    </tr>\n    <tr>\n      <th>1262</th>\n      <td>A00073283</td>\n      <td>ALG</td>\n      <td>A</td>\n      <td>1</td>\n      <td>1</td>\n    </tr>\n    <tr>\n      <th>1263</th>\n      <td>A00073296</td>\n      <td>DS</td>\n      <td>A</td>\n      <td>1</td>\n      <td>1</td>\n    </tr>\n    <tr>\n      <th>1264</th>\n      <td>A00073308</td>\n      <td>DS</td>\n      <td>A</td>\n      <td>1</td>\n      <td>1</td>\n    </tr>\n    <tr>\n      <th>1265</th>\n      <td>A00073330</td>\n      <td>NFB</td>\n      <td>A</td>\n      <td>1</td>\n      <td>1</td>\n    </tr>\n    <tr>\n      <th>1266</th>\n      <td>A00073525</td>\n      <td>ALG</td>\n      <td>A</td>\n      <td>1</td>\n      <td>1</td>\n    </tr>\n    <tr>\n      <th>1267</th>\n      <td>A00073529</td>\n      <td>ALG</td>\n      <td>A</td>\n      <td>1</td>\n      <td>1</td>\n    </tr>\n    <tr>\n      <th>1268</th>\n      <td>A00073545</td>\n      <td>CLG</td>\n      <td>A</td>\n      <td>1</td>\n      <td>0</td>\n    </tr>\n    <tr>\n      <th>1269</th>\n      <td>A00073600</td>\n      <td>NFB</td>\n      <td>3</td>\n      <td>1</td>\n      <td>0</td>\n    </tr>\n    <tr>\n      <th>1270</th>\n      <td>A00073600</td>\n      <td>NFB</td>\n      <td>A</td>\n      <td>1</td>\n      <td>1</td>\n    </tr>\n    <tr>\n      <th>1271</th>\n      <td>A00073611</td>\n      <td>ALG</td>\n      <td>A</td>\n      <td>1</td>\n      <td>1</td>\n    </tr>\n    <tr>\n      <th>1272</th>\n      <td>A00073677</td>\n      <td>ALG</td>\n      <td>A</td>\n      <td>1</td>\n      <td>1</td>\n    </tr>\n    <tr>\n      <th>1273</th>\n      <td>A00073677</td>\n      <td>NFB</td>\n      <td>3</td>\n      <td>1</td>\n      <td>0</td>\n    </tr>\n    <tr>\n      <th>1274</th>\n      <td>A00073705</td>\n      <td>DS</td>\n      <td>A</td>\n      <td>1</td>\n      <td>1</td>\n    </tr>\n    <tr>\n      <th>1275</th>\n      <td>A00073942</td>\n      <td>ALG</td>\n      <td>A</td>\n      <td>1</td>\n      <td>1</td>\n    </tr>\n    <tr>\n      <th>1276</th>\n      <td>A00073953</td>\n      <td>ALG</td>\n      <td>A</td>\n      <td>1</td>\n      <td>1</td>\n    </tr>\n    <tr>\n      <th>1277</th>\n      <td>A00074000</td>\n      <td>NFB</td>\n      <td>A</td>\n      <td>1</td>\n      <td>1</td>\n    </tr>\n    <tr>\n      <th>1278</th>\n      <td>A00074034</td>\n      <td>CLG</td>\n      <td>A</td>\n      <td>1</td>\n      <td>1</td>\n    </tr>\n  </tbody>\n</table>\n<p>1279 rows × 5 columns</p>\n</div>",
      "text/plain": "        subject study code  T1w  DWI\n0     A00008326    DS    2    1    1\n1     A00008399    DS    2    1    0\n2     A00010893    DS    2    1    1\n3     A00013809    DS    2    1    1\n4     A00018030   CLG    4    1    1\n5     A00018030   CLG   4R    1    1\n6     A00018030    DS    2    1    1\n7     A00019903    DS    2    1    1\n8     A00021039    DS    2    1    1\n9     A00023510    DS    2    1    1\n10    A00025566    DS    2    1    1\n11    A00027159   CLG    4    1    1\n12    A00027159   CLG   4R    1    1\n13    A00027159    DS    2    1    1\n14    A00027167   CLG    4    1    1\n15    A00027167   CLG   4R    1    1\n16    A00027167    DS    2    1    1\n17    A00027439   CLG    4    1    1\n18    A00027439   CLG   4R    1    1\n19    A00027439    DS    2    1    1\n20    A00027443    DS    2    1    1\n21    A00027544    DS    2    1    1\n22    A00027651    DS    2    1    1\n23    A00028150    DS    2    1    1\n24    A00028152    DS    2    1    1\n25    A00028177    DS    2    1    1\n26    A00028184    DS    2    1    1\n27    A00028185    DS    2    1    1\n28    A00028185   NFB   2R    0    1\n29    A00028185   NFB    3    1    0\n...         ...   ...  ...  ...  ...\n1249  A00066827   NFB    A    1    1\n1250  A00066831    DS    A    1    1\n1251  A00066860   CLG   2R    1    1\n1252  A00066860    DS    A    1    1\n1253  A00066864   ALG    A    1    1\n1254  A00066865   NFB    A    1    1\n1255  A00066871   ALG    A    1    1\n1256  A00066926   NFB    3    1    0\n1257  A00066926   NFB    A    1    1\n1258  A00067174   ALG    A    1    1\n1259  A00072203   NFB    3    1    0\n1260  A00072203   NFB    A    1    1\n1261  A00073230   ALG    A    1    1\n1262  A00073283   ALG    A    1    1\n1263  A00073296    DS    A    1    1\n1264  A00073308    DS    A    1    1\n1265  A00073330   NFB    A    1    1\n1266  A00073525   ALG    A    1    1\n1267  A00073529   ALG    A    1    1\n1268  A00073545   CLG    A    1    0\n1269  A00073600   NFB    3    1    0\n1270  A00073600   NFB    A    1    1\n1271  A00073611   ALG    A    1    1\n1272  A00073677   ALG    A    1    1\n1273  A00073677   NFB    3    1    0\n1274  A00073705    DS    A    1    1\n1275  A00073942   ALG    A    1    1\n1276  A00073953   ALG    A    1    1\n1277  A00074000   NFB    A    1    1\n1278  A00074034   CLG    A    1    1\n\n[1279 rows x 5 columns]"
     },
     "execution_count": 19,
     "metadata": {},
     "output_type": "execute_result"
    }
   ],
   "source": [
    "visits_df"
   ]
  },
  {
   "cell_type": "code",
   "execution_count": null,
   "metadata": {},
   "outputs": [],
   "source": []
  }
 ],
 "metadata": {
  "kernelspec": {
   "display_name": "Python 3",
   "language": "python",
   "name": "python3"
  },
  "language_info": {
   "codemirror_mode": {
    "name": "ipython",
    "version": 3
   },
   "file_extension": ".py",
   "mimetype": "text/x-python",
   "name": "python",
   "nbconvert_exporter": "python",
   "pygments_lexer": "ipython3",
   "version": "3.7.3"
  }
 },
 "nbformat": 4,
 "nbformat_minor": 2
}