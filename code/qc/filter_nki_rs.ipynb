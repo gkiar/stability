{
 "cells": [
  {
   "cell_type": "code",
   "execution_count": 1,
   "metadata": {},
   "outputs": [],
   "source": [
    "import pandas as pd\n",
    "import numpy as np\n",
    "import os\n",
    "import os.path as op"
   ]
  },
  {
   "cell_type": "code",
   "execution_count": 2,
   "metadata": {},
   "outputs": [
    {
     "data": {
      "text/plain": "['/data/RocklandSample/assessments/3760_Age_20140917.csv',\n '/data/RocklandSample/assessments/3760_HT_WT_Vitals_20140917.csv',\n '/data/RocklandSample/assessments/3760_MRI_Log_Sheet_20140917.csv',\n '/data/RocklandSample/assessments/scan_visit_list.csv']"
     },
     "execution_count": 2,
     "metadata": {},
     "output_type": "execute_result"
    }
   ],
   "source": [
    "datadir = \"/data/RocklandSample/assessments/\"\n",
    "files = sorted([op.join(datadir, f) for f in os.listdir(datadir) if f.endswith('csv')])\n",
    "files"
   ]
  },
  {
   "cell_type": "code",
   "execution_count": 3,
   "metadata": {},
   "outputs": [],
   "source": [
    "age_df = pd.read_csv(files[0])\n",
    "htwt_df = pd.read_csv(files[1])\n",
    "log_df = pd.read_csv(files[2])\n",
    "visits_df = pd.read_csv(files[3])"
   ]
  },
  {
   "cell_type": "code",
   "execution_count": 4,
   "metadata": {},
   "outputs": [
    {
     "name": "stdout",
     "output_type": "stream",
     "text": "290\n"
    }
   ],
   "source": [
    "multi_df = pd.DataFrame(columns=[\"Anonymized ID\", \"Study Codes\", \"Visit Codes\", \"DWI and T1w\"])\n",
    "count = 0\n",
    "for aid in visits_df['Anonymized ID'].unique():\n",
    "    tmpdf = visits_df.loc[visits_df['Anonymized ID'] == aid] \n",
    "    if len(tmpdf) > 1:\n",
    "        ims = [tmpdf[\"DWI\"].unique, tmpdf[\"T1w\"].unique]\n",
    "        multi_df = multi_df.append({\"Anonymized ID\": aid,\n",
    "                                    \"Study Codes\": tmpdf[\"Study Code\"].unique(),\n",
    "                                    \"Visit Codes\": tmpdf[\"Visit Code\"].unique(),\n",
    "                                    \"DWI and T1w\": all(ims)}, ignore_index=True)\n",
    "        count += 1\n",
    "print(count)"
   ]
  },
  {
   "cell_type": "code",
   "execution_count": 5,
   "metadata": {},
   "outputs": [
    {
     "data": {
      "text/html": "<div>\n<style scoped>\n    .dataframe tbody tr th:only-of-type {\n        vertical-align: middle;\n    }\n\n    .dataframe tbody tr th {\n        vertical-align: top;\n    }\n\n    .dataframe thead th {\n        text-align: right;\n    }\n</style>\n<table border=\"1\" class=\"dataframe\">\n  <thead>\n    <tr style=\"text-align: right;\">\n      <th></th>\n      <th>Anonymized ID</th>\n      <th>Study Codes</th>\n      <th>Visit Codes</th>\n      <th>DWI and T1w</th>\n    </tr>\n  </thead>\n  <tbody>\n    <tr>\n      <th>0</th>\n      <td>A00018030</td>\n      <td>[CLG, DS]</td>\n      <td>[4, 4R, 2]</td>\n      <td>True</td>\n    </tr>\n    <tr>\n      <th>1</th>\n      <td>A00027159</td>\n      <td>[CLG, DS]</td>\n      <td>[4, 4R, 2]</td>\n      <td>True</td>\n    </tr>\n    <tr>\n      <th>2</th>\n      <td>A00027167</td>\n      <td>[CLG, DS]</td>\n      <td>[4, 4R, 2]</td>\n      <td>True</td>\n    </tr>\n    <tr>\n      <th>3</th>\n      <td>A00027439</td>\n      <td>[CLG, DS]</td>\n      <td>[4, 4R, 2]</td>\n      <td>True</td>\n    </tr>\n    <tr>\n      <th>4</th>\n      <td>A00028185</td>\n      <td>[DS, NFB]</td>\n      <td>[2, 2R, 3]</td>\n      <td>True</td>\n    </tr>\n    <tr>\n      <th>5</th>\n      <td>A00028352</td>\n      <td>[DS, NFB]</td>\n      <td>[2, 2R, 3]</td>\n      <td>True</td>\n    </tr>\n    <tr>\n      <th>6</th>\n      <td>A00031881</td>\n      <td>[CLG, DS]</td>\n      <td>[4, 4R, 5, 2]</td>\n      <td>True</td>\n    </tr>\n    <tr>\n      <th>7</th>\n      <td>A00032875</td>\n      <td>[DS, NFB]</td>\n      <td>[2, 3, AR]</td>\n      <td>True</td>\n    </tr>\n    <tr>\n      <th>8</th>\n      <td>A00033714</td>\n      <td>[CLG, DS]</td>\n      <td>[4, 4R, 5, 2]</td>\n      <td>True</td>\n    </tr>\n    <tr>\n      <th>9</th>\n      <td>A00033747</td>\n      <td>[DS, NFB]</td>\n      <td>[2, 2R, 3]</td>\n      <td>True</td>\n    </tr>\n    <tr>\n      <th>10</th>\n      <td>A00034350</td>\n      <td>[CLG, DS]</td>\n      <td>[4, 4R, 2]</td>\n      <td>True</td>\n    </tr>\n    <tr>\n      <th>11</th>\n      <td>A00034854</td>\n      <td>[DS, NFB]</td>\n      <td>[2, 2R, 3]</td>\n      <td>True</td>\n    </tr>\n    <tr>\n      <th>12</th>\n      <td>A00035072</td>\n      <td>[DS, NFB]</td>\n      <td>[2, 2R, 3]</td>\n      <td>True</td>\n    </tr>\n    <tr>\n      <th>13</th>\n      <td>A00035291</td>\n      <td>[CLG, DS]</td>\n      <td>[4, 2]</td>\n      <td>True</td>\n    </tr>\n    <tr>\n      <th>14</th>\n      <td>A00035292</td>\n      <td>[CLG, DS]</td>\n      <td>[4, 4R, 5, 2]</td>\n      <td>True</td>\n    </tr>\n    <tr>\n      <th>15</th>\n      <td>A00035364</td>\n      <td>[CLG, DS]</td>\n      <td>[4, 2]</td>\n      <td>True</td>\n    </tr>\n    <tr>\n      <th>16</th>\n      <td>A00035377</td>\n      <td>[CLG, DS]</td>\n      <td>[4, 4R, 5, 2]</td>\n      <td>True</td>\n    </tr>\n    <tr>\n      <th>17</th>\n      <td>A00035561</td>\n      <td>[CLG, DS]</td>\n      <td>[4, 4R, 5, 2]</td>\n      <td>True</td>\n    </tr>\n    <tr>\n      <th>18</th>\n      <td>A00035827</td>\n      <td>[DS, NFB]</td>\n      <td>[2, 2R, 3]</td>\n      <td>True</td>\n    </tr>\n    <tr>\n      <th>19</th>\n      <td>A00035840</td>\n      <td>[DS, NFB]</td>\n      <td>[2, 2R, 3]</td>\n      <td>True</td>\n    </tr>\n    <tr>\n      <th>20</th>\n      <td>A00035940</td>\n      <td>[CLG, DS]</td>\n      <td>[4, 4R, 2]</td>\n      <td>True</td>\n    </tr>\n    <tr>\n      <th>21</th>\n      <td>A00035945</td>\n      <td>[CLG, DS]</td>\n      <td>[4, 4R, 2]</td>\n      <td>True</td>\n    </tr>\n    <tr>\n      <th>22</th>\n      <td>A00037112</td>\n      <td>[DS, NFB]</td>\n      <td>[2, 3]</td>\n      <td>True</td>\n    </tr>\n    <tr>\n      <th>23</th>\n      <td>A00037511</td>\n      <td>[DS, NFB]</td>\n      <td>[2, 2R, 3]</td>\n      <td>True</td>\n    </tr>\n    <tr>\n      <th>24</th>\n      <td>A00037848</td>\n      <td>[DS, NFB]</td>\n      <td>[2, 2R, 3]</td>\n      <td>True</td>\n    </tr>\n    <tr>\n      <th>25</th>\n      <td>A00038642</td>\n      <td>[DS, NFB]</td>\n      <td>[2, 3, AR]</td>\n      <td>True</td>\n    </tr>\n    <tr>\n      <th>26</th>\n      <td>A00038998</td>\n      <td>[DS, NFB]</td>\n      <td>[2, 3]</td>\n      <td>True</td>\n    </tr>\n    <tr>\n      <th>27</th>\n      <td>A00039391</td>\n      <td>[DS, NFB]</td>\n      <td>[2, 3]</td>\n      <td>True</td>\n    </tr>\n    <tr>\n      <th>28</th>\n      <td>A00039431</td>\n      <td>[DS, NFB]</td>\n      <td>[2, 3]</td>\n      <td>True</td>\n    </tr>\n    <tr>\n      <th>29</th>\n      <td>A00039488</td>\n      <td>[DS, NFB]</td>\n      <td>[2, 2R]</td>\n      <td>True</td>\n    </tr>\n    <tr>\n      <th>...</th>\n      <td>...</td>\n      <td>...</td>\n      <td>...</td>\n      <td>...</td>\n    </tr>\n    <tr>\n      <th>260</th>\n      <td>A00065820</td>\n      <td>[CLG, DS]</td>\n      <td>[2R, A]</td>\n      <td>True</td>\n    </tr>\n    <tr>\n      <th>261</th>\n      <td>A00065935</td>\n      <td>[NFB]</td>\n      <td>[3, A]</td>\n      <td>True</td>\n    </tr>\n    <tr>\n      <th>262</th>\n      <td>A00065974</td>\n      <td>[DS, NFB]</td>\n      <td>[A, 3]</td>\n      <td>True</td>\n    </tr>\n    <tr>\n      <th>263</th>\n      <td>A00065991</td>\n      <td>[DS, NFB]</td>\n      <td>[A, 3]</td>\n      <td>True</td>\n    </tr>\n    <tr>\n      <th>264</th>\n      <td>A00065995</td>\n      <td>[DS, NFB]</td>\n      <td>[A, 3]</td>\n      <td>True</td>\n    </tr>\n    <tr>\n      <th>265</th>\n      <td>A00066087</td>\n      <td>[NFB]</td>\n      <td>[3, A]</td>\n      <td>True</td>\n    </tr>\n    <tr>\n      <th>266</th>\n      <td>A00066091</td>\n      <td>[NFB]</td>\n      <td>[3, A]</td>\n      <td>True</td>\n    </tr>\n    <tr>\n      <th>267</th>\n      <td>A00066232</td>\n      <td>[DS, NFB]</td>\n      <td>[A, 3]</td>\n      <td>True</td>\n    </tr>\n    <tr>\n      <th>268</th>\n      <td>A00066236</td>\n      <td>[NFB]</td>\n      <td>[3, A]</td>\n      <td>True</td>\n    </tr>\n    <tr>\n      <th>269</th>\n      <td>A00066246</td>\n      <td>[DS, NFB]</td>\n      <td>[A, 3]</td>\n      <td>True</td>\n    </tr>\n    <tr>\n      <th>270</th>\n      <td>A00066282</td>\n      <td>[DS, NFB]</td>\n      <td>[A, 3]</td>\n      <td>True</td>\n    </tr>\n    <tr>\n      <th>271</th>\n      <td>A00066319</td>\n      <td>[DS, NFB]</td>\n      <td>[A, 3]</td>\n      <td>True</td>\n    </tr>\n    <tr>\n      <th>272</th>\n      <td>A00066572</td>\n      <td>[CLG]</td>\n      <td>[2R, A]</td>\n      <td>True</td>\n    </tr>\n    <tr>\n      <th>273</th>\n      <td>A00066573</td>\n      <td>[CLG, DS]</td>\n      <td>[2R, A]</td>\n      <td>True</td>\n    </tr>\n    <tr>\n      <th>274</th>\n      <td>A00066580</td>\n      <td>[CLG]</td>\n      <td>[2R, A]</td>\n      <td>True</td>\n    </tr>\n    <tr>\n      <th>275</th>\n      <td>A00066581</td>\n      <td>[CLG]</td>\n      <td>[2R, A]</td>\n      <td>True</td>\n    </tr>\n    <tr>\n      <th>276</th>\n      <td>A00066582</td>\n      <td>[CLG]</td>\n      <td>[2R, A]</td>\n      <td>True</td>\n    </tr>\n    <tr>\n      <th>277</th>\n      <td>A00066584</td>\n      <td>[CLG, DS]</td>\n      <td>[2R, A]</td>\n      <td>True</td>\n    </tr>\n    <tr>\n      <th>278</th>\n      <td>A00066697</td>\n      <td>[CLG]</td>\n      <td>[2R, A]</td>\n      <td>True</td>\n    </tr>\n    <tr>\n      <th>279</th>\n      <td>A00066698</td>\n      <td>[CLG]</td>\n      <td>[2R, A]</td>\n      <td>True</td>\n    </tr>\n    <tr>\n      <th>280</th>\n      <td>A00066735</td>\n      <td>[DS, NFB]</td>\n      <td>[A, 3]</td>\n      <td>True</td>\n    </tr>\n    <tr>\n      <th>281</th>\n      <td>A00066781</td>\n      <td>[NFB]</td>\n      <td>[3, A]</td>\n      <td>True</td>\n    </tr>\n    <tr>\n      <th>282</th>\n      <td>A00066812</td>\n      <td>[NFB]</td>\n      <td>[3, A]</td>\n      <td>True</td>\n    </tr>\n    <tr>\n      <th>283</th>\n      <td>A00066822</td>\n      <td>[NFB]</td>\n      <td>[3, A]</td>\n      <td>True</td>\n    </tr>\n    <tr>\n      <th>284</th>\n      <td>A00066827</td>\n      <td>[NFB]</td>\n      <td>[3, A]</td>\n      <td>True</td>\n    </tr>\n    <tr>\n      <th>285</th>\n      <td>A00066860</td>\n      <td>[CLG, DS]</td>\n      <td>[2R, A]</td>\n      <td>True</td>\n    </tr>\n    <tr>\n      <th>286</th>\n      <td>A00066926</td>\n      <td>[NFB]</td>\n      <td>[3, A]</td>\n      <td>True</td>\n    </tr>\n    <tr>\n      <th>287</th>\n      <td>A00072203</td>\n      <td>[NFB]</td>\n      <td>[3, A]</td>\n      <td>True</td>\n    </tr>\n    <tr>\n      <th>288</th>\n      <td>A00073600</td>\n      <td>[NFB]</td>\n      <td>[3, A]</td>\n      <td>True</td>\n    </tr>\n    <tr>\n      <th>289</th>\n      <td>A00073677</td>\n      <td>[ALG, NFB]</td>\n      <td>[A, 3]</td>\n      <td>True</td>\n    </tr>\n  </tbody>\n</table>\n<p>290 rows × 4 columns</p>\n</div>",
      "text/plain": "    Anonymized ID Study Codes    Visit Codes DWI and T1w\n0       A00018030   [CLG, DS]     [4, 4R, 2]        True\n1       A00027159   [CLG, DS]     [4, 4R, 2]        True\n2       A00027167   [CLG, DS]     [4, 4R, 2]        True\n3       A00027439   [CLG, DS]     [4, 4R, 2]        True\n4       A00028185   [DS, NFB]     [2, 2R, 3]        True\n5       A00028352   [DS, NFB]     [2, 2R, 3]        True\n6       A00031881   [CLG, DS]  [4, 4R, 5, 2]        True\n7       A00032875   [DS, NFB]     [2, 3, AR]        True\n8       A00033714   [CLG, DS]  [4, 4R, 5, 2]        True\n9       A00033747   [DS, NFB]     [2, 2R, 3]        True\n10      A00034350   [CLG, DS]     [4, 4R, 2]        True\n11      A00034854   [DS, NFB]     [2, 2R, 3]        True\n12      A00035072   [DS, NFB]     [2, 2R, 3]        True\n13      A00035291   [CLG, DS]         [4, 2]        True\n14      A00035292   [CLG, DS]  [4, 4R, 5, 2]        True\n15      A00035364   [CLG, DS]         [4, 2]        True\n16      A00035377   [CLG, DS]  [4, 4R, 5, 2]        True\n17      A00035561   [CLG, DS]  [4, 4R, 5, 2]        True\n18      A00035827   [DS, NFB]     [2, 2R, 3]        True\n19      A00035840   [DS, NFB]     [2, 2R, 3]        True\n20      A00035940   [CLG, DS]     [4, 4R, 2]        True\n21      A00035945   [CLG, DS]     [4, 4R, 2]        True\n22      A00037112   [DS, NFB]         [2, 3]        True\n23      A00037511   [DS, NFB]     [2, 2R, 3]        True\n24      A00037848   [DS, NFB]     [2, 2R, 3]        True\n25      A00038642   [DS, NFB]     [2, 3, AR]        True\n26      A00038998   [DS, NFB]         [2, 3]        True\n27      A00039391   [DS, NFB]         [2, 3]        True\n28      A00039431   [DS, NFB]         [2, 3]        True\n29      A00039488   [DS, NFB]        [2, 2R]        True\n..            ...         ...            ...         ...\n260     A00065820   [CLG, DS]        [2R, A]        True\n261     A00065935       [NFB]         [3, A]        True\n262     A00065974   [DS, NFB]         [A, 3]        True\n263     A00065991   [DS, NFB]         [A, 3]        True\n264     A00065995   [DS, NFB]         [A, 3]        True\n265     A00066087       [NFB]         [3, A]        True\n266     A00066091       [NFB]         [3, A]        True\n267     A00066232   [DS, NFB]         [A, 3]        True\n268     A00066236       [NFB]         [3, A]        True\n269     A00066246   [DS, NFB]         [A, 3]        True\n270     A00066282   [DS, NFB]         [A, 3]        True\n271     A00066319   [DS, NFB]         [A, 3]        True\n272     A00066572       [CLG]        [2R, A]        True\n273     A00066573   [CLG, DS]        [2R, A]        True\n274     A00066580       [CLG]        [2R, A]        True\n275     A00066581       [CLG]        [2R, A]        True\n276     A00066582       [CLG]        [2R, A]        True\n277     A00066584   [CLG, DS]        [2R, A]        True\n278     A00066697       [CLG]        [2R, A]        True\n279     A00066698       [CLG]        [2R, A]        True\n280     A00066735   [DS, NFB]         [A, 3]        True\n281     A00066781       [NFB]         [3, A]        True\n282     A00066812       [NFB]         [3, A]        True\n283     A00066822       [NFB]         [3, A]        True\n284     A00066827       [NFB]         [3, A]        True\n285     A00066860   [CLG, DS]        [2R, A]        True\n286     A00066926       [NFB]         [3, A]        True\n287     A00072203       [NFB]         [3, A]        True\n288     A00073600       [NFB]         [3, A]        True\n289     A00073677  [ALG, NFB]         [A, 3]        True\n\n[290 rows x 4 columns]"
     },
     "execution_count": 5,
     "metadata": {},
     "output_type": "execute_result"
    }
   ],
   "source": [
    "multi_df"
   ]
  },
  {
   "cell_type": "code",
   "execution_count": null,
   "metadata": {},
   "outputs": [],
   "source": []
  },
  {
   "cell_type": "code",
   "execution_count": null,
   "metadata": {},
   "outputs": [],
   "source": []
  },
  {
   "cell_type": "code",
   "execution_count": 45,
   "metadata": {},
   "outputs": [],
   "source": [
    "filehandle = \"/data/RocklandSample/dmriprep_filelist.txt\"\n",
    "with open(filehandle, 'r') as fhandle:\n",
    "    data = fhandle.readlines()"
   ]
  },
  {
   "cell_type": "code",
   "execution_count": 83,
   "metadata": {},
   "outputs": [],
   "source": [
    "columns = [\"subject\", \"dataset\", \"n_sessions\",  \"data\"]\n",
    "df = pd.DataFrame(columns=columns)\n",
    "\n",
    "lut = {\"aparc+aseg.nii.gz\": 0,\n",
    "       \"T1w.nii.gz\": 1,\n",
    "       \"dwi.bvals\": 2,\n",
    "       \"dwi.bvecs\": 3,\n",
    "       \"dwi.nii.gz\": 4}\n",
    "\n",
    "for line in data:\n",
    "    l = line.strip()\n",
    "    issub = l.startswith(\"sub-\") and not l.endswith(\"gz\") and not l.endswith(\"s\")\n",
    "\n",
    "    if issub:\n",
    "        # if there's a previous subj DF, add it to the stack\n",
    "        df = df.append(tmpdf, ignore_index=True, sort=False)\n",
    "        del tmpdf\n",
    "\n",
    "        # create new subj DF\n",
    "        sub = l.strip('sub-')\n",
    "        tmpdf = {\"subject\": sub,\n",
    "                 \"dataset\": [],\n",
    "                 \"n_sessions\": 0,\n",
    "                 \"data\": [   0,    0,    0,    0,    0]}\n",
    "                #        aparc,   t1, bval, bvec,  dwi \n",
    "        continue\n",
    "\n",
    "    isses = l.startswith(\"ses-\")\n",
    "    if isses:\n",
    "        ses = l.strip('ses-')\n",
    "        tmpdf[\"dataset\"] += [ses]\n",
    "        tmpdf[\"n_sessions\"] += 1\n",
    "        continue\n",
    "\n",
    "    if l == \"anat\" or l == \"dwi\" or l is '':\n",
    "        continue\n",
    "\n",
    "    ending = l.split(\"_\")[-1]\n",
    "    tmpdf[\"data\"][lut[ending]] += 1"
   ]
  },
  {
   "cell_type": "code",
   "execution_count": 94,
   "metadata": {},
   "outputs": [],
   "source": [
    "newdf = df.copy()\n",
    "\n",
    "single_sessions = newdf[newdf[\"n_sessions\"] < 2].index\n",
    "newdf.drop(single_sessions, inplace=True)\n",
    "\n",
    "missing_data = newdf[newdf[\"data\"].map(sum) < 5*newdf[\"n_sessions\"]].index\n",
    "newdf.drop(missing_data, inplace=True)\n",
    "\n",
    "newdf.reset_index(inplace=True, drop=True)"
   ]
  },
  {
   "cell_type": "code",
   "execution_count": 95,
   "metadata": {},
   "outputs": [
    {
     "data": {
      "text/html": "<div>\n<style scoped>\n    .dataframe tbody tr th:only-of-type {\n        vertical-align: middle;\n    }\n\n    .dataframe tbody tr th {\n        vertical-align: top;\n    }\n\n    .dataframe thead th {\n        text-align: right;\n    }\n</style>\n<table border=\"1\" class=\"dataframe\">\n  <thead>\n    <tr style=\"text-align: right;\">\n      <th></th>\n      <th>subject</th>\n      <th>dataset</th>\n      <th>n_sessions</th>\n      <th>data</th>\n    </tr>\n  </thead>\n  <tbody>\n    <tr>\n      <th>0</th>\n      <td>A00018030</td>\n      <td>[CLG4, CLG4R, DS2]</td>\n      <td>3</td>\n      <td>[3, 3, 3, 3, 3]</td>\n    </tr>\n    <tr>\n      <th>1</th>\n      <td>A00027159</td>\n      <td>[CLG4, CLG4R, DS2]</td>\n      <td>3</td>\n      <td>[3, 3, 3, 3, 3]</td>\n    </tr>\n    <tr>\n      <th>2</th>\n      <td>A00027167</td>\n      <td>[CLG4, CLG4R, DS2]</td>\n      <td>3</td>\n      <td>[3, 3, 3, 3, 3]</td>\n    </tr>\n    <tr>\n      <th>3</th>\n      <td>A00027439</td>\n      <td>[CLG4, CLG4R, DS2]</td>\n      <td>3</td>\n      <td>[3, 3, 3, 3, 3]</td>\n    </tr>\n    <tr>\n      <th>4</th>\n      <td>A00031881</td>\n      <td>[CLG4, CLG4R, CLG5, DS2]</td>\n      <td>4</td>\n      <td>[4, 4, 4, 4, 4]</td>\n    </tr>\n    <tr>\n      <th>5</th>\n      <td>A00032875</td>\n      <td>[DS2, NFBAR]</td>\n      <td>2</td>\n      <td>[2, 2, 2, 2, 2]</td>\n    </tr>\n    <tr>\n      <th>6</th>\n      <td>A00033714</td>\n      <td>[CLG4, CLG4R, CLG5, DS2]</td>\n      <td>4</td>\n      <td>[4, 4, 4, 4, 4]</td>\n    </tr>\n    <tr>\n      <th>7</th>\n      <td>A00034350</td>\n      <td>[CLG4, CLG4R, DS2]</td>\n      <td>3</td>\n      <td>[3, 3, 3, 3, 3]</td>\n    </tr>\n    <tr>\n      <th>8</th>\n      <td>A00034854</td>\n      <td>[DS2, NFB2R]</td>\n      <td>2</td>\n      <td>[2, 2, 2, 2, 2]</td>\n    </tr>\n    <tr>\n      <th>9</th>\n      <td>A00035291</td>\n      <td>[CLG4, DS2]</td>\n      <td>2</td>\n      <td>[2, 2, 2, 2, 2]</td>\n    </tr>\n    <tr>\n      <th>10</th>\n      <td>A00035292</td>\n      <td>[CLG4, CLG4R, CLG5, DS2]</td>\n      <td>4</td>\n      <td>[4, 4, 4, 4, 4]</td>\n    </tr>\n    <tr>\n      <th>11</th>\n      <td>A00035377</td>\n      <td>[CLG4, CLG4R, CLG5, DS2]</td>\n      <td>4</td>\n      <td>[4, 4, 4, 4, 4]</td>\n    </tr>\n    <tr>\n      <th>12</th>\n      <td>A00035561</td>\n      <td>[CLG4, CLG4R, CLG5, DS2]</td>\n      <td>4</td>\n      <td>[4, 4, 4, 4, 4]</td>\n    </tr>\n    <tr>\n      <th>13</th>\n      <td>A00035940</td>\n      <td>[CLG4, CLG4R, DS2]</td>\n      <td>3</td>\n      <td>[3, 3, 3, 3, 3]</td>\n    </tr>\n    <tr>\n      <th>14</th>\n      <td>A00035945</td>\n      <td>[CLG4, CLG4R, DS2]</td>\n      <td>3</td>\n      <td>[3, 3, 3, 3, 3]</td>\n    </tr>\n    <tr>\n      <th>15</th>\n      <td>A00038642</td>\n      <td>[DS2, NFBAR]</td>\n      <td>2</td>\n      <td>[2, 2, 2, 2, 2]</td>\n    </tr>\n    <tr>\n      <th>16</th>\n      <td>A00038998</td>\n      <td>[DS2, NFB2]</td>\n      <td>2</td>\n      <td>[2, 2, 2, 2, 2]</td>\n    </tr>\n    <tr>\n      <th>17</th>\n      <td>A00039943</td>\n      <td>[CLG4, CLG4R, CLG5]</td>\n      <td>3</td>\n      <td>[3, 3, 3, 3, 3]</td>\n    </tr>\n    <tr>\n      <th>18</th>\n      <td>A00040117</td>\n      <td>[CLG4, CLG4R, CLG5]</td>\n      <td>3</td>\n      <td>[3, 3, 3, 3, 3]</td>\n    </tr>\n    <tr>\n      <th>19</th>\n      <td>A00040556</td>\n      <td>[CLG2R, CLG4, DS2]</td>\n      <td>3</td>\n      <td>[3, 3, 3, 3, 3]</td>\n    </tr>\n    <tr>\n      <th>20</th>\n      <td>A00040628</td>\n      <td>[DS2, NFBAR]</td>\n      <td>2</td>\n      <td>[2, 2, 2, 2, 2]</td>\n    </tr>\n    <tr>\n      <th>21</th>\n      <td>A00040800</td>\n      <td>[CLG2, CLG2R, CLG4]</td>\n      <td>3</td>\n      <td>[3, 3, 3, 3, 3]</td>\n    </tr>\n    <tr>\n      <th>22</th>\n      <td>A00043240</td>\n      <td>[CLG2R, DS2]</td>\n      <td>2</td>\n      <td>[2, 2, 2, 2, 2]</td>\n    </tr>\n    <tr>\n      <th>23</th>\n      <td>A00043740</td>\n      <td>[CLG2, CLG2R, CLG4]</td>\n      <td>3</td>\n      <td>[3, 3, 3, 3, 3]</td>\n    </tr>\n    <tr>\n      <th>24</th>\n      <td>A00043788</td>\n      <td>[CLG2, CLG2R, CLG4]</td>\n      <td>3</td>\n      <td>[3, 3, 3, 3, 3]</td>\n    </tr>\n    <tr>\n      <th>25</th>\n      <td>A00044084</td>\n      <td>[CLG4, DS2]</td>\n      <td>2</td>\n      <td>[2, 2, 2, 2, 2]</td>\n    </tr>\n    <tr>\n      <th>26</th>\n      <td>A00050848</td>\n      <td>[CLG2, CLG2R, CLG4]</td>\n      <td>3</td>\n      <td>[3, 3, 3, 3, 3]</td>\n    </tr>\n    <tr>\n      <th>27</th>\n      <td>A00051691</td>\n      <td>[CLG2R, CLG4]</td>\n      <td>2</td>\n      <td>[2, 2, 2, 2, 2]</td>\n    </tr>\n    <tr>\n      <th>28</th>\n      <td>A00051727</td>\n      <td>[CLG2, CLG2R]</td>\n      <td>2</td>\n      <td>[2, 2, 2, 2, 2]</td>\n    </tr>\n    <tr>\n      <th>29</th>\n      <td>A00052069</td>\n      <td>[CLG2, CLG2R, CLG4]</td>\n      <td>3</td>\n      <td>[3, 3, 3, 3, 3]</td>\n    </tr>\n    <tr>\n      <th>...</th>\n      <td>...</td>\n      <td>...</td>\n      <td>...</td>\n      <td>...</td>\n    </tr>\n    <tr>\n      <th>80</th>\n      <td>A00060603</td>\n      <td>[CLG2, CLG2R]</td>\n      <td>2</td>\n      <td>[2, 2, 2, 2, 2]</td>\n    </tr>\n    <tr>\n      <th>81</th>\n      <td>A00060664</td>\n      <td>[CLG2R, DS2]</td>\n      <td>2</td>\n      <td>[2, 2, 2, 2, 2]</td>\n    </tr>\n    <tr>\n      <th>82</th>\n      <td>A00060806</td>\n      <td>[CLG2, CLG2R]</td>\n      <td>2</td>\n      <td>[2, 2, 2, 2, 2]</td>\n    </tr>\n    <tr>\n      <th>83</th>\n      <td>A00060846</td>\n      <td>[CLG2R, DS2]</td>\n      <td>2</td>\n      <td>[2, 2, 2, 2, 2]</td>\n    </tr>\n    <tr>\n      <th>84</th>\n      <td>A00061298</td>\n      <td>[CLG2R, CLGA]</td>\n      <td>2</td>\n      <td>[2, 2, 2, 2, 2]</td>\n    </tr>\n    <tr>\n      <th>85</th>\n      <td>A00061415</td>\n      <td>[CLG2R, CLGA]</td>\n      <td>2</td>\n      <td>[2, 2, 2, 2, 2]</td>\n    </tr>\n    <tr>\n      <th>86</th>\n      <td>A00061714</td>\n      <td>[CLG2R, CLGA]</td>\n      <td>2</td>\n      <td>[2, 2, 2, 2, 2]</td>\n    </tr>\n    <tr>\n      <th>87</th>\n      <td>A00061715</td>\n      <td>[CLG2R, DSA]</td>\n      <td>2</td>\n      <td>[2, 2, 2, 2, 2]</td>\n    </tr>\n    <tr>\n      <th>88</th>\n      <td>A00061749</td>\n      <td>[CLG2R, CLGA]</td>\n      <td>2</td>\n      <td>[2, 2, 2, 2, 2]</td>\n    </tr>\n    <tr>\n      <th>89</th>\n      <td>A00061883</td>\n      <td>[CLG2R, CLGA]</td>\n      <td>2</td>\n      <td>[2, 2, 2, 2, 2]</td>\n    </tr>\n    <tr>\n      <th>90</th>\n      <td>A00062081</td>\n      <td>[CLG2R, CLGA]</td>\n      <td>2</td>\n      <td>[2, 2, 2, 2, 2]</td>\n    </tr>\n    <tr>\n      <th>91</th>\n      <td>A00062144</td>\n      <td>[CLG2R, DSA]</td>\n      <td>2</td>\n      <td>[2, 2, 2, 2, 2]</td>\n    </tr>\n    <tr>\n      <th>92</th>\n      <td>A00062146</td>\n      <td>[CLG2R, CLGA]</td>\n      <td>2</td>\n      <td>[2, 2, 2, 2, 2]</td>\n    </tr>\n    <tr>\n      <th>93</th>\n      <td>A00062361</td>\n      <td>[CLG2R, DSA]</td>\n      <td>2</td>\n      <td>[2, 2, 2, 2, 2]</td>\n    </tr>\n    <tr>\n      <th>94</th>\n      <td>A00062369</td>\n      <td>[CLG2R, CLGA]</td>\n      <td>2</td>\n      <td>[2, 2, 2, 2, 2]</td>\n    </tr>\n    <tr>\n      <th>95</th>\n      <td>A00062809</td>\n      <td>[CLG2R, DSA]</td>\n      <td>2</td>\n      <td>[2, 2, 2, 2, 2]</td>\n    </tr>\n    <tr>\n      <th>96</th>\n      <td>A00062983</td>\n      <td>[CLG2R, DSA]</td>\n      <td>2</td>\n      <td>[2, 2, 2, 2, 2]</td>\n    </tr>\n    <tr>\n      <th>97</th>\n      <td>A00062989</td>\n      <td>[CLG2R, DSA]</td>\n      <td>2</td>\n      <td>[2, 2, 2, 2, 2]</td>\n    </tr>\n    <tr>\n      <th>98</th>\n      <td>A00062996</td>\n      <td>[CLG2R, CLGA]</td>\n      <td>2</td>\n      <td>[2, 2, 2, 2, 2]</td>\n    </tr>\n    <tr>\n      <th>99</th>\n      <td>A00063003</td>\n      <td>[CLG2R, DSA]</td>\n      <td>2</td>\n      <td>[2, 2, 2, 2, 2]</td>\n    </tr>\n    <tr>\n      <th>100</th>\n      <td>A00063383</td>\n      <td>[CLG2R, CLGA]</td>\n      <td>2</td>\n      <td>[2, 2, 2, 2, 2]</td>\n    </tr>\n    <tr>\n      <th>101</th>\n      <td>A00064503</td>\n      <td>[CLG2R, CLGA]</td>\n      <td>2</td>\n      <td>[2, 2, 2, 2, 2]</td>\n    </tr>\n    <tr>\n      <th>102</th>\n      <td>A00064505</td>\n      <td>[CLG2R, CLGA]</td>\n      <td>2</td>\n      <td>[2, 2, 2, 2, 2]</td>\n    </tr>\n    <tr>\n      <th>103</th>\n      <td>A00064596</td>\n      <td>[CLG2R, CLGA]</td>\n      <td>2</td>\n      <td>[2, 2, 2, 2, 2]</td>\n    </tr>\n    <tr>\n      <th>104</th>\n      <td>A00065250</td>\n      <td>[CLG2R, DSA]</td>\n      <td>2</td>\n      <td>[2, 2, 2, 2, 2]</td>\n    </tr>\n    <tr>\n      <th>105</th>\n      <td>A00065792</td>\n      <td>[CLG2R, CLGA]</td>\n      <td>2</td>\n      <td>[2, 2, 2, 2, 2]</td>\n    </tr>\n    <tr>\n      <th>106</th>\n      <td>A00065802</td>\n      <td>[CLG2R, DSA]</td>\n      <td>2</td>\n      <td>[2, 2, 2, 2, 2]</td>\n    </tr>\n    <tr>\n      <th>107</th>\n      <td>A00066572</td>\n      <td>[CLG2R, CLGA]</td>\n      <td>2</td>\n      <td>[2, 2, 2, 2, 2]</td>\n    </tr>\n    <tr>\n      <th>108</th>\n      <td>A00066580</td>\n      <td>[CLG2R, CLGA]</td>\n      <td>2</td>\n      <td>[2, 2, 2, 2, 2]</td>\n    </tr>\n    <tr>\n      <th>109</th>\n      <td>A00066860</td>\n      <td>[CLG2R, DSA]</td>\n      <td>2</td>\n      <td>[2, 2, 2, 2, 2]</td>\n    </tr>\n  </tbody>\n</table>\n<p>110 rows × 4 columns</p>\n</div>",
      "text/plain": "       subject                   dataset n_sessions             data\n0    A00018030        [CLG4, CLG4R, DS2]          3  [3, 3, 3, 3, 3]\n1    A00027159        [CLG4, CLG4R, DS2]          3  [3, 3, 3, 3, 3]\n2    A00027167        [CLG4, CLG4R, DS2]          3  [3, 3, 3, 3, 3]\n3    A00027439        [CLG4, CLG4R, DS2]          3  [3, 3, 3, 3, 3]\n4    A00031881  [CLG4, CLG4R, CLG5, DS2]          4  [4, 4, 4, 4, 4]\n5    A00032875              [DS2, NFBAR]          2  [2, 2, 2, 2, 2]\n6    A00033714  [CLG4, CLG4R, CLG5, DS2]          4  [4, 4, 4, 4, 4]\n7    A00034350        [CLG4, CLG4R, DS2]          3  [3, 3, 3, 3, 3]\n8    A00034854              [DS2, NFB2R]          2  [2, 2, 2, 2, 2]\n9    A00035291               [CLG4, DS2]          2  [2, 2, 2, 2, 2]\n10   A00035292  [CLG4, CLG4R, CLG5, DS2]          4  [4, 4, 4, 4, 4]\n11   A00035377  [CLG4, CLG4R, CLG5, DS2]          4  [4, 4, 4, 4, 4]\n12   A00035561  [CLG4, CLG4R, CLG5, DS2]          4  [4, 4, 4, 4, 4]\n13   A00035940        [CLG4, CLG4R, DS2]          3  [3, 3, 3, 3, 3]\n14   A00035945        [CLG4, CLG4R, DS2]          3  [3, 3, 3, 3, 3]\n15   A00038642              [DS2, NFBAR]          2  [2, 2, 2, 2, 2]\n16   A00038998               [DS2, NFB2]          2  [2, 2, 2, 2, 2]\n17   A00039943       [CLG4, CLG4R, CLG5]          3  [3, 3, 3, 3, 3]\n18   A00040117       [CLG4, CLG4R, CLG5]          3  [3, 3, 3, 3, 3]\n19   A00040556        [CLG2R, CLG4, DS2]          3  [3, 3, 3, 3, 3]\n20   A00040628              [DS2, NFBAR]          2  [2, 2, 2, 2, 2]\n21   A00040800       [CLG2, CLG2R, CLG4]          3  [3, 3, 3, 3, 3]\n22   A00043240              [CLG2R, DS2]          2  [2, 2, 2, 2, 2]\n23   A00043740       [CLG2, CLG2R, CLG4]          3  [3, 3, 3, 3, 3]\n24   A00043788       [CLG2, CLG2R, CLG4]          3  [3, 3, 3, 3, 3]\n25   A00044084               [CLG4, DS2]          2  [2, 2, 2, 2, 2]\n26   A00050848       [CLG2, CLG2R, CLG4]          3  [3, 3, 3, 3, 3]\n27   A00051691             [CLG2R, CLG4]          2  [2, 2, 2, 2, 2]\n28   A00051727             [CLG2, CLG2R]          2  [2, 2, 2, 2, 2]\n29   A00052069       [CLG2, CLG2R, CLG4]          3  [3, 3, 3, 3, 3]\n..         ...                       ...        ...              ...\n80   A00060603             [CLG2, CLG2R]          2  [2, 2, 2, 2, 2]\n81   A00060664              [CLG2R, DS2]          2  [2, 2, 2, 2, 2]\n82   A00060806             [CLG2, CLG2R]          2  [2, 2, 2, 2, 2]\n83   A00060846              [CLG2R, DS2]          2  [2, 2, 2, 2, 2]\n84   A00061298             [CLG2R, CLGA]          2  [2, 2, 2, 2, 2]\n85   A00061415             [CLG2R, CLGA]          2  [2, 2, 2, 2, 2]\n86   A00061714             [CLG2R, CLGA]          2  [2, 2, 2, 2, 2]\n87   A00061715              [CLG2R, DSA]          2  [2, 2, 2, 2, 2]\n88   A00061749             [CLG2R, CLGA]          2  [2, 2, 2, 2, 2]\n89   A00061883             [CLG2R, CLGA]          2  [2, 2, 2, 2, 2]\n90   A00062081             [CLG2R, CLGA]          2  [2, 2, 2, 2, 2]\n91   A00062144              [CLG2R, DSA]          2  [2, 2, 2, 2, 2]\n92   A00062146             [CLG2R, CLGA]          2  [2, 2, 2, 2, 2]\n93   A00062361              [CLG2R, DSA]          2  [2, 2, 2, 2, 2]\n94   A00062369             [CLG2R, CLGA]          2  [2, 2, 2, 2, 2]\n95   A00062809              [CLG2R, DSA]          2  [2, 2, 2, 2, 2]\n96   A00062983              [CLG2R, DSA]          2  [2, 2, 2, 2, 2]\n97   A00062989              [CLG2R, DSA]          2  [2, 2, 2, 2, 2]\n98   A00062996             [CLG2R, CLGA]          2  [2, 2, 2, 2, 2]\n99   A00063003              [CLG2R, DSA]          2  [2, 2, 2, 2, 2]\n100  A00063383             [CLG2R, CLGA]          2  [2, 2, 2, 2, 2]\n101  A00064503             [CLG2R, CLGA]          2  [2, 2, 2, 2, 2]\n102  A00064505             [CLG2R, CLGA]          2  [2, 2, 2, 2, 2]\n103  A00064596             [CLG2R, CLGA]          2  [2, 2, 2, 2, 2]\n104  A00065250              [CLG2R, DSA]          2  [2, 2, 2, 2, 2]\n105  A00065792             [CLG2R, CLGA]          2  [2, 2, 2, 2, 2]\n106  A00065802              [CLG2R, DSA]          2  [2, 2, 2, 2, 2]\n107  A00066572             [CLG2R, CLGA]          2  [2, 2, 2, 2, 2]\n108  A00066580             [CLG2R, CLGA]          2  [2, 2, 2, 2, 2]\n109  A00066860              [CLG2R, DSA]          2  [2, 2, 2, 2, 2]\n\n[110 rows x 4 columns]"
     },
     "execution_count": 95,
     "metadata": {},
     "output_type": "execute_result"
    }
   ],
   "source": [
    "newdf"
   ]
  },
  {
   "cell_type": "code",
   "execution_count": 99,
   "metadata": {},
   "outputs": [],
   "source": [
    "newdf.to_csv(\"/data/RocklandSample/subjects_sessions_to_process.csv\", index=False)"
   ]
  },
  {
   "cell_type": "code",
   "execution_count": 111,
   "metadata": {},
   "outputs": [
    {
     "data": {
      "text/plain": "256"
     },
     "execution_count": 111,
     "metadata": {},
     "output_type": "execute_result"
    }
   ],
   "source": [
    "sum(newdf[\"n_sessions\"])"
   ]
  },
  {
   "cell_type": "code",
   "execution_count": 107,
   "metadata": {},
   "outputs": [
    {
     "data": {
      "text/plain": "[('NFBAR', 3),\n ('NFB2R', 1),\n ('ALGA', 5),\n ('DSA', 10),\n ('CLG4', 35),\n ('CLG5', 7),\n ('CLG2R', 83),\n ('NFB2', 4),\n ('CLGA', 16),\n ('CLG4R', 14),\n ('CLG2', 46),\n ('DS2', 32)]"
     },
     "execution_count": 107,
     "metadata": {},
     "output_type": "execute_result"
    }
   ],
   "source": [
    "flatten = [f for l in newdf.dataset.values for f in l]\n",
    "[(x, flatten.count(x)) for x in set(flatten)]"
   ]
  },
  {
   "cell_type": "code",
   "execution_count": 112,
   "metadata": {},
   "outputs": [
    {
     "data": {
      "text/plain": "[('DSA', 133), ('NFB', 102), ('ALG', 23), ('DS2', 538), ('CLG', 265)]"
     },
     "execution_count": 112,
     "metadata": {},
     "output_type": "execute_result"
    }
   ],
   "source": [
    "flatten = [f[:3] for l in df.dataset.values for f in l]\n",
    "[(x, flatten.count(x)) for x in set(flatten)]"
   ]
  },
  {
   "cell_type": "code",
   "execution_count": null,
   "metadata": {},
   "outputs": [],
   "source": []
  }
 ],
 "metadata": {
  "kernelspec": {
   "display_name": "Python 3",
   "language": "python",
   "name": "python3"
  },
  "language_info": {
   "codemirror_mode": {
    "name": "ipython",
    "version": 3
   },
   "file_extension": ".py",
   "mimetype": "text/x-python",
   "name": "python",
   "nbconvert_exporter": "python",
   "pygments_lexer": "ipython3",
   "version": "3.7.3-final"
  }
 },
 "nbformat": 4,
 "nbformat_minor": 2
}