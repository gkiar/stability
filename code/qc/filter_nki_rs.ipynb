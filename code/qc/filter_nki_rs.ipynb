{
 "cells": [
  {
   "cell_type": "code",
   "execution_count": 2,
   "metadata": {},
   "outputs": [],
   "source": [
    "import pandas as pd\n",
    "import numpy as np\n",
    "import os\n",
    "import os.path as op"
   ]
  },
  {
   "cell_type": "code",
   "execution_count": 4,
   "metadata": {},
   "outputs": [
    {
     "data": {
      "text/plain": "['/data/RocklandSample/assessments/3760_Age_20140917.csv',\n '/data/RocklandSample/assessments/3760_HT_WT_Vitals_20140917.csv',\n '/data/RocklandSample/assessments/3760_MRI_Log_Sheet_20140917.csv',\n '/data/RocklandSample/assessments/scan_visit_list.csv']"
     },
     "execution_count": 4,
     "metadata": {},
     "output_type": "execute_result"
    }
   ],
   "source": [
    "datadir = \"/data/RocklandSample/assessments/\"\n",
    "files = sorted([op.join(datadir, f) for f in os.listdir(datadir) if f.endswith('csv')])\n",
    "files"
   ]
  },
  {
   "cell_type": "code",
   "execution_count": 7,
   "metadata": {},
   "outputs": [],
   "source": [
    "age_df = pd.read_csv(files[0])\n",
    "htwt_df = pd.read_csv(files[1])\n",
    "log_df = pd.read_csv(files[2])\n",
    "visits_df = pd.read_csv(files[3])"
   ]
  },
  {
   "cell_type": "code",
   "execution_count": 43,
   "metadata": {},
   "outputs": [
    {
     "name": "stdout",
     "output_type": "stream",
     "text": "290\n"
    }
   ],
   "source": [
    "multi_df = pd.DataFrame(columns=[\"Anonymized ID\", \"Study Codes\", \"Visit Codes\", \"DWI and T1w\"])\n",
    "count = 0\n",
    "for aid in visits_df['Anonymized ID'].unique():\n",
    "    tmpdf = visits_df.loc[visits_df['Anonymized ID'] == aid] \n",
    "    if len(tmpdf) > 1:\n",
    "        ims = [tmpdf[\"DWI\"].unique, tmpdf[\"T1w\"].unique]\n",
    "        multi_df = multi_df.append({\"Anonymized ID\": aid,\n",
    "                                    \"Study Codes\": tmpdf[\"Study Code\"].unique(),\n",
    "                                    \"Visit Codes\": tmpdf[\"Visit Code\"].unique(),\n",
    "                                    \"DWI and T1w\": all(ims)}, ignore_index=True)\n",
    "        count += 1\n",
    "print(count)"
   ]
  },
  {
   "cell_type": "code",
   "execution_count": 44,
   "metadata": {},
   "outputs": [
    {
     "data": {
      "text/html": "<div>\n<style scoped>\n    .dataframe tbody tr th:only-of-type {\n        vertical-align: middle;\n    }\n\n    .dataframe tbody tr th {\n        vertical-align: top;\n    }\n\n    .dataframe thead th {\n        text-align: right;\n    }\n</style>\n<table border=\"1\" class=\"dataframe\">\n  <thead>\n    <tr style=\"text-align: right;\">\n      <th></th>\n      <th>Anonymized ID</th>\n      <th>Study Codes</th>\n      <th>Visit Codes</th>\n      <th>DWI and T1w</th>\n    </tr>\n  </thead>\n  <tbody>\n    <tr>\n      <td>0</td>\n      <td>A00018030</td>\n      <td>[CLG, DS]</td>\n      <td>[4, 4R, 2]</td>\n      <td>True</td>\n    </tr>\n    <tr>\n      <td>1</td>\n      <td>A00027159</td>\n      <td>[CLG, DS]</td>\n      <td>[4, 4R, 2]</td>\n      <td>True</td>\n    </tr>\n    <tr>\n      <td>2</td>\n      <td>A00027167</td>\n      <td>[CLG, DS]</td>\n      <td>[4, 4R, 2]</td>\n      <td>True</td>\n    </tr>\n    <tr>\n      <td>3</td>\n      <td>A00027439</td>\n      <td>[CLG, DS]</td>\n      <td>[4, 4R, 2]</td>\n      <td>True</td>\n    </tr>\n    <tr>\n      <td>4</td>\n      <td>A00028185</td>\n      <td>[DS, NFB]</td>\n      <td>[2, 2R, 3]</td>\n      <td>True</td>\n    </tr>\n    <tr>\n      <td>...</td>\n      <td>...</td>\n      <td>...</td>\n      <td>...</td>\n      <td>...</td>\n    </tr>\n    <tr>\n      <td>285</td>\n      <td>A00066860</td>\n      <td>[CLG, DS]</td>\n      <td>[2R, A]</td>\n      <td>True</td>\n    </tr>\n    <tr>\n      <td>286</td>\n      <td>A00066926</td>\n      <td>[NFB]</td>\n      <td>[3, A]</td>\n      <td>True</td>\n    </tr>\n    <tr>\n      <td>287</td>\n      <td>A00072203</td>\n      <td>[NFB]</td>\n      <td>[3, A]</td>\n      <td>True</td>\n    </tr>\n    <tr>\n      <td>288</td>\n      <td>A00073600</td>\n      <td>[NFB]</td>\n      <td>[3, A]</td>\n      <td>True</td>\n    </tr>\n    <tr>\n      <td>289</td>\n      <td>A00073677</td>\n      <td>[ALG, NFB]</td>\n      <td>[A, 3]</td>\n      <td>True</td>\n    </tr>\n  </tbody>\n</table>\n<p>290 rows × 4 columns</p>\n</div>",
      "text/plain": "    Anonymized ID Study Codes Visit Codes DWI and T1w\n0       A00018030   [CLG, DS]  [4, 4R, 2]        True\n1       A00027159   [CLG, DS]  [4, 4R, 2]        True\n2       A00027167   [CLG, DS]  [4, 4R, 2]        True\n3       A00027439   [CLG, DS]  [4, 4R, 2]        True\n4       A00028185   [DS, NFB]  [2, 2R, 3]        True\n..            ...         ...         ...         ...\n285     A00066860   [CLG, DS]     [2R, A]        True\n286     A00066926       [NFB]      [3, A]        True\n287     A00072203       [NFB]      [3, A]        True\n288     A00073600       [NFB]      [3, A]        True\n289     A00073677  [ALG, NFB]      [A, 3]        True\n\n[290 rows x 4 columns]"
     },
     "execution_count": 44,
     "metadata": {},
     "output_type": "execute_result"
    }
   ],
   "source": []
  },
  {
   "cell_type": "code",
   "execution_count": 25,
   "metadata": {},
   "outputs": [
    {
     "data": {
      "text/plain": "1"
     },
     "execution_count": 25,
     "metadata": {},
     "output_type": "execute_result"
    }
   ],
   "source": [
    "len(visits_df.loc[visits_df['Anonymized ID'] == 'A00013809'])"
   ]
  },
  {
   "cell_type": "code",
   "execution_count": 40,
   "metadata": {},
   "outputs": [
    {
     "data": {
      "text/html": "<div>\n<style scoped>\n    .dataframe tbody tr th:only-of-type {\n        vertical-align: middle;\n    }\n\n    .dataframe tbody tr th {\n        vertical-align: top;\n    }\n\n    .dataframe thead th {\n        text-align: right;\n    }\n</style>\n<table border=\"1\" class=\"dataframe\">\n  <thead>\n    <tr style=\"text-align: right;\">\n      <th></th>\n      <th>Anonymized ID</th>\n      <th>Study Code</th>\n      <th>Visit Code</th>\n      <th>T1w</th>\n      <th>DWI</th>\n    </tr>\n  </thead>\n  <tbody>\n    <tr>\n      <td>0</td>\n      <td>A00008326</td>\n      <td>DS</td>\n      <td>2</td>\n      <td>1</td>\n      <td>1</td>\n    </tr>\n    <tr>\n      <td>1</td>\n      <td>A00008399</td>\n      <td>DS</td>\n      <td>2</td>\n      <td>1</td>\n      <td>0</td>\n    </tr>\n    <tr>\n      <td>2</td>\n      <td>A00010893</td>\n      <td>DS</td>\n      <td>2</td>\n      <td>1</td>\n      <td>1</td>\n    </tr>\n    <tr>\n      <td>3</td>\n      <td>A00013809</td>\n      <td>DS</td>\n      <td>2</td>\n      <td>1</td>\n      <td>1</td>\n    </tr>\n    <tr>\n      <td>4</td>\n      <td>A00018030</td>\n      <td>CLG</td>\n      <td>4</td>\n      <td>1</td>\n      <td>1</td>\n    </tr>\n    <tr>\n      <td>...</td>\n      <td>...</td>\n      <td>...</td>\n      <td>...</td>\n      <td>...</td>\n      <td>...</td>\n    </tr>\n    <tr>\n      <td>1274</td>\n      <td>A00073705</td>\n      <td>DS</td>\n      <td>A</td>\n      <td>1</td>\n      <td>1</td>\n    </tr>\n    <tr>\n      <td>1275</td>\n      <td>A00073942</td>\n      <td>ALG</td>\n      <td>A</td>\n      <td>1</td>\n      <td>1</td>\n    </tr>\n    <tr>\n      <td>1276</td>\n      <td>A00073953</td>\n      <td>ALG</td>\n      <td>A</td>\n      <td>1</td>\n      <td>1</td>\n    </tr>\n    <tr>\n      <td>1277</td>\n      <td>A00074000</td>\n      <td>NFB</td>\n      <td>A</td>\n      <td>1</td>\n      <td>1</td>\n    </tr>\n    <tr>\n      <td>1278</td>\n      <td>A00074034</td>\n      <td>CLG</td>\n      <td>A</td>\n      <td>1</td>\n      <td>1</td>\n    </tr>\n  </tbody>\n</table>\n<p>1279 rows × 5 columns</p>\n</div>",
      "text/plain": "     Anonymized ID Study Code Visit Code  T1w  DWI\n0        A00008326         DS          2    1    1\n1        A00008399         DS          2    1    0\n2        A00010893         DS          2    1    1\n3        A00013809         DS          2    1    1\n4        A00018030        CLG          4    1    1\n...            ...        ...        ...  ...  ...\n1274     A00073705         DS          A    1    1\n1275     A00073942        ALG          A    1    1\n1276     A00073953        ALG          A    1    1\n1277     A00074000        NFB          A    1    1\n1278     A00074034        CLG          A    1    1\n\n[1279 rows x 5 columns]"
     },
     "execution_count": 40,
     "metadata": {},
     "output_type": "execute_result"
    }
   ],
   "source": [
    "visits_df"
   ]
  },
  {
   "cell_type": "code",
   "execution_count": null,
   "metadata": {},
   "outputs": [],
   "source": []
  }
 ],
 "metadata": {
  "kernelspec": {
   "display_name": "Python 3",
   "language": "python",
   "name": "python3"
  },
  "language_info": {
   "codemirror_mode": {
    "name": "ipython",
    "version": 3
   },
   "file_extension": ".py",
   "mimetype": "text/x-python",
   "name": "python",
   "nbconvert_exporter": "python",
   "pygments_lexer": "ipython3",
   "version": "3.7.4"
  }
 },
 "nbformat": 4,
 "nbformat_minor": 2
}