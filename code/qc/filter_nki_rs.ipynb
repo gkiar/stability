{
 "cells": [
  {
   "cell_type": "code",
   "execution_count": 1,
   "metadata": {},
   "outputs": [],
   "source": [
    "import pandas as pd\n",
    "import numpy as np\n",
    "import os\n",
    "import os.path as op"
   ]
  },
  {
   "cell_type": "code",
   "execution_count": 2,
   "metadata": {},
   "outputs": [
    {
     "data": {
      "text/plain": "['/data/RocklandSample/assessments/3760_Age_20140917.csv',\n '/data/RocklandSample/assessments/3760_HT_WT_Vitals_20140917.csv',\n '/data/RocklandSample/assessments/3760_MRI_Log_Sheet_20140917.csv',\n '/data/RocklandSample/assessments/scan_visit_list.csv']"
     },
     "execution_count": 2,
     "metadata": {},
     "output_type": "execute_result"
    }
   ],
   "source": [
    "datadir = \"/data/RocklandSample/assessments/\"\n",
    "files = sorted([op.join(datadir, f) for f in os.listdir(datadir) if f.endswith('csv')])\n",
    "files"
   ]
  },
  {
   "cell_type": "code",
   "execution_count": 3,
   "metadata": {},
   "outputs": [],
   "source": [
    "age_df = pd.read_csv(files[0])\n",
    "htwt_df = pd.read_csv(files[1])\n",
    "log_df = pd.read_csv(files[2])\n",
    "visits_df = pd.read_csv(files[3])"
   ]
  },
  {
   "cell_type": "code",
   "execution_count": 4,
   "metadata": {},
   "outputs": [
    {
     "name": "stdout",
     "output_type": "stream",
     "text": "290\n"
    }
   ],
   "source": [
    "multi_df = pd.DataFrame(columns=[\"Anonymized ID\", \"Study Codes\", \"Visit Codes\", \"DWI and T1w\"])\n",
    "count = 0\n",
    "for aid in visits_df['Anonymized ID'].unique():\n",
    "    tmpdf = visits_df.loc[visits_df['Anonymized ID'] == aid] \n",
    "    if len(tmpdf) > 1:\n",
    "        ims = [tmpdf[\"DWI\"].unique, tmpdf[\"T1w\"].unique]\n",
    "        multi_df = multi_df.append({\"Anonymized ID\": aid,\n",
    "                                    \"Study Codes\": tmpdf[\"Study Code\"].unique(),\n",
    "                                    \"Visit Codes\": tmpdf[\"Visit Code\"].unique(),\n",
    "                                    \"DWI and T1w\": all(ims)}, ignore_index=True)\n",
    "        count += 1\n",
    "print(count)"
   ]
  },
  {
   "cell_type": "code",
   "execution_count": 5,
   "metadata": {},
   "outputs": [
    {
     "data": {
      "text/html": "<div>\n<style scoped>\n    .dataframe tbody tr th:only-of-type {\n        vertical-align: middle;\n    }\n\n    .dataframe tbody tr th {\n        vertical-align: top;\n    }\n\n    .dataframe thead th {\n        text-align: right;\n    }\n</style>\n<table border=\"1\" class=\"dataframe\">\n  <thead>\n    <tr style=\"text-align: right;\">\n      <th></th>\n      <th>Anonymized ID</th>\n      <th>Study Codes</th>\n      <th>Visit Codes</th>\n      <th>DWI and T1w</th>\n    </tr>\n  </thead>\n  <tbody>\n    <tr>\n      <td>0</td>\n      <td>A00018030</td>\n      <td>[CLG, DS]</td>\n      <td>[4, 4R, 2]</td>\n      <td>True</td>\n    </tr>\n    <tr>\n      <td>1</td>\n      <td>A00027159</td>\n      <td>[CLG, DS]</td>\n      <td>[4, 4R, 2]</td>\n      <td>True</td>\n    </tr>\n    <tr>\n      <td>2</td>\n      <td>A00027167</td>\n      <td>[CLG, DS]</td>\n      <td>[4, 4R, 2]</td>\n      <td>True</td>\n    </tr>\n    <tr>\n      <td>3</td>\n      <td>A00027439</td>\n      <td>[CLG, DS]</td>\n      <td>[4, 4R, 2]</td>\n      <td>True</td>\n    </tr>\n    <tr>\n      <td>4</td>\n      <td>A00028185</td>\n      <td>[DS, NFB]</td>\n      <td>[2, 2R, 3]</td>\n      <td>True</td>\n    </tr>\n    <tr>\n      <td>...</td>\n      <td>...</td>\n      <td>...</td>\n      <td>...</td>\n      <td>...</td>\n    </tr>\n    <tr>\n      <td>285</td>\n      <td>A00066860</td>\n      <td>[CLG, DS]</td>\n      <td>[2R, A]</td>\n      <td>True</td>\n    </tr>\n    <tr>\n      <td>286</td>\n      <td>A00066926</td>\n      <td>[NFB]</td>\n      <td>[3, A]</td>\n      <td>True</td>\n    </tr>\n    <tr>\n      <td>287</td>\n      <td>A00072203</td>\n      <td>[NFB]</td>\n      <td>[3, A]</td>\n      <td>True</td>\n    </tr>\n    <tr>\n      <td>288</td>\n      <td>A00073600</td>\n      <td>[NFB]</td>\n      <td>[3, A]</td>\n      <td>True</td>\n    </tr>\n    <tr>\n      <td>289</td>\n      <td>A00073677</td>\n      <td>[ALG, NFB]</td>\n      <td>[A, 3]</td>\n      <td>True</td>\n    </tr>\n  </tbody>\n</table>\n<p>290 rows × 4 columns</p>\n</div>",
      "text/plain": "    Anonymized ID Study Codes Visit Codes DWI and T1w\n0       A00018030   [CLG, DS]  [4, 4R, 2]        True\n1       A00027159   [CLG, DS]  [4, 4R, 2]        True\n2       A00027167   [CLG, DS]  [4, 4R, 2]        True\n3       A00027439   [CLG, DS]  [4, 4R, 2]        True\n4       A00028185   [DS, NFB]  [2, 2R, 3]        True\n..            ...         ...         ...         ...\n285     A00066860   [CLG, DS]     [2R, A]        True\n286     A00066926       [NFB]      [3, A]        True\n287     A00072203       [NFB]      [3, A]        True\n288     A00073600       [NFB]      [3, A]        True\n289     A00073677  [ALG, NFB]      [A, 3]        True\n\n[290 rows x 4 columns]"
     },
     "execution_count": 5,
     "metadata": {},
     "output_type": "execute_result"
    }
   ],
   "source": [
    "multi_df"
   ]
  },
  {
   "cell_type": "code",
   "execution_count": 6,
   "metadata": {},
   "outputs": [],
   "source": [
    "filehandle = \"/data/RocklandSample/dmriprep_filelist.txt\"\n",
    "with open(filehandle, 'r') as fhandle:\n",
    "    data = fhandle.readlines()"
   ]
  },
  {
   "cell_type": "code",
   "execution_count": 14,
   "metadata": {},
   "outputs": [],
   "source": [
    "columns = [\"subject\", \"dataset\", \"n_sessions\",  \"data\"]\n",
    "df = pd.DataFrame(columns=columns)\n",
    "\n",
    "lut = {\"aparc+aseg.nii.gz\": 0,\n",
    "       \"T1w.nii.gz\": 1,\n",
    "       \"dwi.bvals\": 2,\n",
    "       \"dwi.bvecs\": 3,\n",
    "       \"dwi.nii.gz\": 4}\n",
    "\n",
    "for line in data:\n",
    "    l = line.strip()\n",
    "    issub = l.startswith(\"sub-\") and not l.endswith(\"gz\") and not l.endswith(\"s\")\n",
    "\n",
    "    if issub:\n",
    "        # if there's a previous subj DF, add it to the stack\n",
    "        try:\n",
    "            df = df.append(tmpdf, ignore_index=True, sort=False)\n",
    "            del tmpdf\n",
    "        except NameError as e:\n",
    "            pass\n",
    "\n",
    "        # create new subj DF\n",
    "        sub = l.strip('sub-')\n",
    "        tmpdf = {\"subject\": sub,\n",
    "                 \"dataset\": [],\n",
    "                 \"n_sessions\": 0,\n",
    "                 \"data\": [   0,    0,    0,    0,    0]}\n",
    "                #        aparc,   t1, bval, bvec,  dwi \n",
    "        continue\n",
    "\n",
    "    isses = l.startswith(\"ses-\")\n",
    "    if isses:\n",
    "        ses = l.strip('ses-')\n",
    "        tmpdf[\"dataset\"] += [ses]\n",
    "        tmpdf[\"n_sessions\"] += 1\n",
    "        continue\n",
    "\n",
    "    if l == \"anat\" or l == \"dwi\" or l is '':\n",
    "        continue\n",
    "\n",
    "    ending = l.split(\"_\")[-1]\n",
    "    tmpdf[\"data\"][lut[ending]] += 1"
   ]
  },
  {
   "cell_type": "code",
   "execution_count": 15,
   "metadata": {},
   "outputs": [
    {
     "data": {
      "text/html": "<div>\n<style scoped>\n    .dataframe tbody tr th:only-of-type {\n        vertical-align: middle;\n    }\n\n    .dataframe tbody tr th {\n        vertical-align: top;\n    }\n\n    .dataframe thead th {\n        text-align: right;\n    }\n</style>\n<table border=\"1\" class=\"dataframe\">\n  <thead>\n    <tr style=\"text-align: right;\">\n      <th></th>\n      <th>subject</th>\n      <th>dataset</th>\n      <th>n_sessions</th>\n      <th>data</th>\n    </tr>\n  </thead>\n  <tbody>\n    <tr>\n      <td>0</td>\n      <td>A00008326</td>\n      <td>[DS2]</td>\n      <td>1</td>\n      <td>[1, 1, 1, 1, 1]</td>\n    </tr>\n    <tr>\n      <td>1</td>\n      <td>A00010893</td>\n      <td>[DS2]</td>\n      <td>1</td>\n      <td>[1, 1, 1, 1, 1]</td>\n    </tr>\n    <tr>\n      <td>2</td>\n      <td>A00013809</td>\n      <td>[DS2]</td>\n      <td>1</td>\n      <td>[0, 1, 1, 1, 1]</td>\n    </tr>\n    <tr>\n      <td>3</td>\n      <td>A00018030</td>\n      <td>[CLG4, CLG4R, DS2]</td>\n      <td>3</td>\n      <td>[3, 3, 3, 3, 3]</td>\n    </tr>\n    <tr>\n      <td>4</td>\n      <td>A00019903</td>\n      <td>[DS2]</td>\n      <td>1</td>\n      <td>[1, 1, 1, 1, 1]</td>\n    </tr>\n    <tr>\n      <td>...</td>\n      <td>...</td>\n      <td>...</td>\n      <td>...</td>\n      <td>...</td>\n    </tr>\n    <tr>\n      <td>887</td>\n      <td>A00073677</td>\n      <td>[ALGA]</td>\n      <td>1</td>\n      <td>[1, 1, 1, 1, 1]</td>\n    </tr>\n    <tr>\n      <td>888</td>\n      <td>A00073705</td>\n      <td>[DSA]</td>\n      <td>1</td>\n      <td>[1, 1, 1, 1, 1]</td>\n    </tr>\n    <tr>\n      <td>889</td>\n      <td>A00073942</td>\n      <td>[ALGA]</td>\n      <td>1</td>\n      <td>[1, 1, 1, 1, 1]</td>\n    </tr>\n    <tr>\n      <td>890</td>\n      <td>A00073953</td>\n      <td>[ALGA]</td>\n      <td>1</td>\n      <td>[1, 1, 1, 1, 1]</td>\n    </tr>\n    <tr>\n      <td>891</td>\n      <td>A00074000</td>\n      <td>[NFBA]</td>\n      <td>1</td>\n      <td>[1, 1, 1, 1, 1]</td>\n    </tr>\n  </tbody>\n</table>\n<p>892 rows × 4 columns</p>\n</div>",
      "text/plain": "       subject             dataset n_sessions             data\n0    A00008326               [DS2]          1  [1, 1, 1, 1, 1]\n1    A00010893               [DS2]          1  [1, 1, 1, 1, 1]\n2    A00013809               [DS2]          1  [0, 1, 1, 1, 1]\n3    A00018030  [CLG4, CLG4R, DS2]          3  [3, 3, 3, 3, 3]\n4    A00019903               [DS2]          1  [1, 1, 1, 1, 1]\n..         ...                 ...        ...              ...\n887  A00073677              [ALGA]          1  [1, 1, 1, 1, 1]\n888  A00073705               [DSA]          1  [1, 1, 1, 1, 1]\n889  A00073942              [ALGA]          1  [1, 1, 1, 1, 1]\n890  A00073953              [ALGA]          1  [1, 1, 1, 1, 1]\n891  A00074000              [NFBA]          1  [1, 1, 1, 1, 1]\n\n[892 rows x 4 columns]"
     },
     "execution_count": 15,
     "metadata": {},
     "output_type": "execute_result"
    }
   ],
   "source": []
  },
  {
   "cell_type": "code",
   "execution_count": 24,
   "metadata": {},
   "outputs": [],
   "source": [
    "multi_df = df.copy()\n",
    "\n",
    "single_sessions = multi_df[multi_df[\"n_sessions\"] < 2].index\n",
    "multi_df.drop(single_sessions, inplace=True)\n",
    "\n",
    "missing_data = multi_df[multi_df[\"data\"].map(sum) < 5*multi_df[\"n_sessions\"]].index\n",
    "multi_df.drop(missing_data, inplace=True)\n",
    "\n",
    "ds = lambda x: \"DS2\" not in x and \"DSA\" not in x\n",
    "only_x_sectional = multi_df[multi_df[\"dataset\"].map(ds)].index\n",
    "multi_df.drop(only_x_sectional, inplace=True)\n",
    "\n",
    "multi_df.reset_index(inplace=True, drop=True)"
   ]
  },
  {
   "cell_type": "code",
   "execution_count": 25,
   "metadata": {},
   "outputs": [
    {
     "data": {
      "text/html": "<div>\n<style scoped>\n    .dataframe tbody tr th:only-of-type {\n        vertical-align: middle;\n    }\n\n    .dataframe tbody tr th {\n        vertical-align: top;\n    }\n\n    .dataframe thead th {\n        text-align: right;\n    }\n</style>\n<table border=\"1\" class=\"dataframe\">\n  <thead>\n    <tr style=\"text-align: right;\">\n      <th></th>\n      <th>subject</th>\n      <th>dataset</th>\n      <th>n_sessions</th>\n      <th>data</th>\n    </tr>\n  </thead>\n  <tbody>\n    <tr>\n      <td>0</td>\n      <td>A00018030</td>\n      <td>[CLG4, CLG4R, DS2]</td>\n      <td>3</td>\n      <td>[3, 3, 3, 3, 3]</td>\n    </tr>\n    <tr>\n      <td>1</td>\n      <td>A00027159</td>\n      <td>[CLG4, CLG4R, DS2]</td>\n      <td>3</td>\n      <td>[3, 3, 3, 3, 3]</td>\n    </tr>\n    <tr>\n      <td>2</td>\n      <td>A00027167</td>\n      <td>[CLG4, CLG4R, DS2]</td>\n      <td>3</td>\n      <td>[3, 3, 3, 3, 3]</td>\n    </tr>\n    <tr>\n      <td>3</td>\n      <td>A00027439</td>\n      <td>[CLG4, CLG4R, DS2]</td>\n      <td>3</td>\n      <td>[3, 3, 3, 3, 3]</td>\n    </tr>\n    <tr>\n      <td>4</td>\n      <td>A00031881</td>\n      <td>[CLG4, CLG4R, CLG5, DS2]</td>\n      <td>4</td>\n      <td>[4, 4, 4, 4, 4]</td>\n    </tr>\n    <tr>\n      <td>5</td>\n      <td>A00032875</td>\n      <td>[DS2, NFBAR]</td>\n      <td>2</td>\n      <td>[2, 2, 2, 2, 2]</td>\n    </tr>\n    <tr>\n      <td>6</td>\n      <td>A00033714</td>\n      <td>[CLG4, CLG4R, CLG5, DS2]</td>\n      <td>4</td>\n      <td>[4, 4, 4, 4, 4]</td>\n    </tr>\n    <tr>\n      <td>7</td>\n      <td>A00034350</td>\n      <td>[CLG4, CLG4R, DS2]</td>\n      <td>3</td>\n      <td>[3, 3, 3, 3, 3]</td>\n    </tr>\n    <tr>\n      <td>8</td>\n      <td>A00034854</td>\n      <td>[DS2, NFB2R]</td>\n      <td>2</td>\n      <td>[2, 2, 2, 2, 2]</td>\n    </tr>\n    <tr>\n      <td>9</td>\n      <td>A00035291</td>\n      <td>[CLG4, DS2]</td>\n      <td>2</td>\n      <td>[2, 2, 2, 2, 2]</td>\n    </tr>\n    <tr>\n      <td>10</td>\n      <td>A00035292</td>\n      <td>[CLG4, CLG4R, CLG5, DS2]</td>\n      <td>4</td>\n      <td>[4, 4, 4, 4, 4]</td>\n    </tr>\n    <tr>\n      <td>11</td>\n      <td>A00035377</td>\n      <td>[CLG4, CLG4R, CLG5, DS2]</td>\n      <td>4</td>\n      <td>[4, 4, 4, 4, 4]</td>\n    </tr>\n    <tr>\n      <td>12</td>\n      <td>A00035561</td>\n      <td>[CLG4, CLG4R, CLG5, DS2]</td>\n      <td>4</td>\n      <td>[4, 4, 4, 4, 4]</td>\n    </tr>\n    <tr>\n      <td>13</td>\n      <td>A00035940</td>\n      <td>[CLG4, CLG4R, DS2]</td>\n      <td>3</td>\n      <td>[3, 3, 3, 3, 3]</td>\n    </tr>\n    <tr>\n      <td>14</td>\n      <td>A00035945</td>\n      <td>[CLG4, CLG4R, DS2]</td>\n      <td>3</td>\n      <td>[3, 3, 3, 3, 3]</td>\n    </tr>\n    <tr>\n      <td>15</td>\n      <td>A00038642</td>\n      <td>[DS2, NFBAR]</td>\n      <td>2</td>\n      <td>[2, 2, 2, 2, 2]</td>\n    </tr>\n    <tr>\n      <td>16</td>\n      <td>A00038998</td>\n      <td>[DS2, NFB2]</td>\n      <td>2</td>\n      <td>[2, 2, 2, 2, 2]</td>\n    </tr>\n    <tr>\n      <td>17</td>\n      <td>A00040556</td>\n      <td>[CLG2R, CLG4, DS2]</td>\n      <td>3</td>\n      <td>[3, 3, 3, 3, 3]</td>\n    </tr>\n    <tr>\n      <td>18</td>\n      <td>A00040628</td>\n      <td>[DS2, NFBAR]</td>\n      <td>2</td>\n      <td>[2, 2, 2, 2, 2]</td>\n    </tr>\n    <tr>\n      <td>19</td>\n      <td>A00043240</td>\n      <td>[CLG2R, DS2]</td>\n      <td>2</td>\n      <td>[2, 2, 2, 2, 2]</td>\n    </tr>\n    <tr>\n      <td>20</td>\n      <td>A00044084</td>\n      <td>[CLG4, DS2]</td>\n      <td>2</td>\n      <td>[2, 2, 2, 2, 2]</td>\n    </tr>\n    <tr>\n      <td>21</td>\n      <td>A00053320</td>\n      <td>[CLG2R, CLG4, DS2]</td>\n      <td>3</td>\n      <td>[3, 3, 3, 3, 3]</td>\n    </tr>\n    <tr>\n      <td>22</td>\n      <td>A00055612</td>\n      <td>[CLG2R, CLG4, DS2]</td>\n      <td>3</td>\n      <td>[3, 3, 3, 3, 3]</td>\n    </tr>\n    <tr>\n      <td>23</td>\n      <td>A00055866</td>\n      <td>[CLG2R, DS2]</td>\n      <td>2</td>\n      <td>[2, 2, 2, 2, 2]</td>\n    </tr>\n    <tr>\n      <td>24</td>\n      <td>A00056022</td>\n      <td>[CLG2R, DS2]</td>\n      <td>2</td>\n      <td>[2, 2, 2, 2, 2]</td>\n    </tr>\n    <tr>\n      <td>25</td>\n      <td>A00056307</td>\n      <td>[CLG2R, CLG4, DS2]</td>\n      <td>3</td>\n      <td>[3, 3, 3, 3, 3]</td>\n    </tr>\n    <tr>\n      <td>26</td>\n      <td>A00056420</td>\n      <td>[CLG2R, DS2]</td>\n      <td>2</td>\n      <td>[2, 2, 2, 2, 2]</td>\n    </tr>\n    <tr>\n      <td>27</td>\n      <td>A00059325</td>\n      <td>[CLG2R, DS2]</td>\n      <td>2</td>\n      <td>[2, 2, 2, 2, 2]</td>\n    </tr>\n    <tr>\n      <td>28</td>\n      <td>A00059361</td>\n      <td>[ALGA, DS2]</td>\n      <td>2</td>\n      <td>[2, 2, 2, 2, 2]</td>\n    </tr>\n    <tr>\n      <td>29</td>\n      <td>A00060602</td>\n      <td>[ALGA, DS2]</td>\n      <td>2</td>\n      <td>[2, 2, 2, 2, 2]</td>\n    </tr>\n    <tr>\n      <td>30</td>\n      <td>A00060664</td>\n      <td>[CLG2R, DS2]</td>\n      <td>2</td>\n      <td>[2, 2, 2, 2, 2]</td>\n    </tr>\n    <tr>\n      <td>31</td>\n      <td>A00060846</td>\n      <td>[CLG2R, DS2]</td>\n      <td>2</td>\n      <td>[2, 2, 2, 2, 2]</td>\n    </tr>\n    <tr>\n      <td>32</td>\n      <td>A00061715</td>\n      <td>[CLG2R, DSA]</td>\n      <td>2</td>\n      <td>[2, 2, 2, 2, 2]</td>\n    </tr>\n    <tr>\n      <td>33</td>\n      <td>A00062144</td>\n      <td>[CLG2R, DSA]</td>\n      <td>2</td>\n      <td>[2, 2, 2, 2, 2]</td>\n    </tr>\n    <tr>\n      <td>34</td>\n      <td>A00062361</td>\n      <td>[CLG2R, DSA]</td>\n      <td>2</td>\n      <td>[2, 2, 2, 2, 2]</td>\n    </tr>\n    <tr>\n      <td>35</td>\n      <td>A00062809</td>\n      <td>[CLG2R, DSA]</td>\n      <td>2</td>\n      <td>[2, 2, 2, 2, 2]</td>\n    </tr>\n    <tr>\n      <td>36</td>\n      <td>A00062983</td>\n      <td>[CLG2R, DSA]</td>\n      <td>2</td>\n      <td>[2, 2, 2, 2, 2]</td>\n    </tr>\n    <tr>\n      <td>37</td>\n      <td>A00062989</td>\n      <td>[CLG2R, DSA]</td>\n      <td>2</td>\n      <td>[2, 2, 2, 2, 2]</td>\n    </tr>\n    <tr>\n      <td>38</td>\n      <td>A00063003</td>\n      <td>[CLG2R, DSA]</td>\n      <td>2</td>\n      <td>[2, 2, 2, 2, 2]</td>\n    </tr>\n    <tr>\n      <td>39</td>\n      <td>A00065250</td>\n      <td>[CLG2R, DSA]</td>\n      <td>2</td>\n      <td>[2, 2, 2, 2, 2]</td>\n    </tr>\n    <tr>\n      <td>40</td>\n      <td>A00065802</td>\n      <td>[CLG2R, DSA]</td>\n      <td>2</td>\n      <td>[2, 2, 2, 2, 2]</td>\n    </tr>\n    <tr>\n      <td>41</td>\n      <td>A00066860</td>\n      <td>[CLG2R, DSA]</td>\n      <td>2</td>\n      <td>[2, 2, 2, 2, 2]</td>\n    </tr>\n  </tbody>\n</table>\n</div>",
      "text/plain": "      subject                   dataset n_sessions             data\n0   A00018030        [CLG4, CLG4R, DS2]          3  [3, 3, 3, 3, 3]\n1   A00027159        [CLG4, CLG4R, DS2]          3  [3, 3, 3, 3, 3]\n2   A00027167        [CLG4, CLG4R, DS2]          3  [3, 3, 3, 3, 3]\n3   A00027439        [CLG4, CLG4R, DS2]          3  [3, 3, 3, 3, 3]\n4   A00031881  [CLG4, CLG4R, CLG5, DS2]          4  [4, 4, 4, 4, 4]\n5   A00032875              [DS2, NFBAR]          2  [2, 2, 2, 2, 2]\n6   A00033714  [CLG4, CLG4R, CLG5, DS2]          4  [4, 4, 4, 4, 4]\n7   A00034350        [CLG4, CLG4R, DS2]          3  [3, 3, 3, 3, 3]\n8   A00034854              [DS2, NFB2R]          2  [2, 2, 2, 2, 2]\n9   A00035291               [CLG4, DS2]          2  [2, 2, 2, 2, 2]\n10  A00035292  [CLG4, CLG4R, CLG5, DS2]          4  [4, 4, 4, 4, 4]\n11  A00035377  [CLG4, CLG4R, CLG5, DS2]          4  [4, 4, 4, 4, 4]\n12  A00035561  [CLG4, CLG4R, CLG5, DS2]          4  [4, 4, 4, 4, 4]\n13  A00035940        [CLG4, CLG4R, DS2]          3  [3, 3, 3, 3, 3]\n14  A00035945        [CLG4, CLG4R, DS2]          3  [3, 3, 3, 3, 3]\n15  A00038642              [DS2, NFBAR]          2  [2, 2, 2, 2, 2]\n16  A00038998               [DS2, NFB2]          2  [2, 2, 2, 2, 2]\n17  A00040556        [CLG2R, CLG4, DS2]          3  [3, 3, 3, 3, 3]\n18  A00040628              [DS2, NFBAR]          2  [2, 2, 2, 2, 2]\n19  A00043240              [CLG2R, DS2]          2  [2, 2, 2, 2, 2]\n20  A00044084               [CLG4, DS2]          2  [2, 2, 2, 2, 2]\n21  A00053320        [CLG2R, CLG4, DS2]          3  [3, 3, 3, 3, 3]\n22  A00055612        [CLG2R, CLG4, DS2]          3  [3, 3, 3, 3, 3]\n23  A00055866              [CLG2R, DS2]          2  [2, 2, 2, 2, 2]\n24  A00056022              [CLG2R, DS2]          2  [2, 2, 2, 2, 2]\n25  A00056307        [CLG2R, CLG4, DS2]          3  [3, 3, 3, 3, 3]\n26  A00056420              [CLG2R, DS2]          2  [2, 2, 2, 2, 2]\n27  A00059325              [CLG2R, DS2]          2  [2, 2, 2, 2, 2]\n28  A00059361               [ALGA, DS2]          2  [2, 2, 2, 2, 2]\n29  A00060602               [ALGA, DS2]          2  [2, 2, 2, 2, 2]\n30  A00060664              [CLG2R, DS2]          2  [2, 2, 2, 2, 2]\n31  A00060846              [CLG2R, DS2]          2  [2, 2, 2, 2, 2]\n32  A00061715              [CLG2R, DSA]          2  [2, 2, 2, 2, 2]\n33  A00062144              [CLG2R, DSA]          2  [2, 2, 2, 2, 2]\n34  A00062361              [CLG2R, DSA]          2  [2, 2, 2, 2, 2]\n35  A00062809              [CLG2R, DSA]          2  [2, 2, 2, 2, 2]\n36  A00062983              [CLG2R, DSA]          2  [2, 2, 2, 2, 2]\n37  A00062989              [CLG2R, DSA]          2  [2, 2, 2, 2, 2]\n38  A00063003              [CLG2R, DSA]          2  [2, 2, 2, 2, 2]\n39  A00065250              [CLG2R, DSA]          2  [2, 2, 2, 2, 2]\n40  A00065802              [CLG2R, DSA]          2  [2, 2, 2, 2, 2]\n41  A00066860              [CLG2R, DSA]          2  [2, 2, 2, 2, 2]"
     },
     "execution_count": 25,
     "metadata": {},
     "output_type": "execute_result"
    }
   ],
   "source": [
    "multi_df"
   ]
  },
  {
   "cell_type": "code",
   "execution_count": 99,
   "metadata": {},
   "outputs": [],
   "source": [
    "newdf.to_csv(\"/data/RocklandSample/subjects_sessions_to_process.csv\", index=False)"
   ]
  },
  {
   "cell_type": "code",
   "execution_count": 111,
   "metadata": {},
   "outputs": [
    {
     "data": {
      "text/plain": "256"
     },
     "execution_count": 111,
     "metadata": {},
     "output_type": "execute_result"
    }
   ],
   "source": [
    "sum(newdf[\"n_sessions\"])"
   ]
  },
  {
   "cell_type": "code",
   "execution_count": 107,
   "metadata": {},
   "outputs": [
    {
     "data": {
      "text/plain": "[('NFBAR', 3),\n ('NFB2R', 1),\n ('ALGA', 5),\n ('DSA', 10),\n ('CLG4', 35),\n ('CLG5', 7),\n ('CLG2R', 83),\n ('NFB2', 4),\n ('CLGA', 16),\n ('CLG4R', 14),\n ('CLG2', 46),\n ('DS2', 32)]"
     },
     "execution_count": 107,
     "metadata": {},
     "output_type": "execute_result"
    }
   ],
   "source": [
    "flatten = [f for l in newdf.dataset.values for f in l]\n",
    "[(x, flatten.count(x)) for x in set(flatten)]"
   ]
  },
  {
   "cell_type": "code",
   "execution_count": 112,
   "metadata": {},
   "outputs": [
    {
     "data": {
      "text/plain": "[('DSA', 133), ('NFB', 102), ('ALG', 23), ('DS2', 538), ('CLG', 265)]"
     },
     "execution_count": 112,
     "metadata": {},
     "output_type": "execute_result"
    }
   ],
   "source": [
    "flatten = [f[:3] for l in df.dataset.values for f in l]\n",
    "[(x, flatten.count(x)) for x in set(flatten)]"
   ]
  },
  {
   "cell_type": "code",
   "execution_count": null,
   "metadata": {},
   "outputs": [],
   "source": []
  }
 ],
 "metadata": {
  "kernelspec": {
   "display_name": "Python 3",
   "language": "python",
   "name": "python3"
  },
  "language_info": {
   "codemirror_mode": {
    "name": "ipython",
    "version": 3
   },
   "file_extension": ".py",
   "mimetype": "text/x-python",
   "name": "python",
   "nbconvert_exporter": "python",
   "pygments_lexer": "ipython3",
   "version": "3.7.4"
  }
 },
 "nbformat": 4,
 "nbformat_minor": 2
}